{
 "cells": [
  {
   "cell_type": "code",
   "execution_count": 33,
   "metadata": {},
   "outputs": [
    {
     "name": "stdout",
     "output_type": "stream",
     "text": [
      "0 4.22968\n",
      "200 0.563897\n",
      "400 0.472375\n",
      "600 0.398351\n",
      "800 0.328436\n",
      "1000 0.257531\n",
      "1200 0.225704\n",
      "1400 0.205684\n",
      "1600 0.188777\n",
      "1800 0.174323\n",
      "2000 0.161837\n",
      "--------------\n",
      "[[  2.18995549e-02   9.78092551e-01   7.94315292e-06]] [1]\n"
     ]
    }
   ],
   "source": [
    "import tensorflow as tf\n",
    "tf.set_random_seed(777)  # for reproducibility\n",
    "\n",
    "x_data = [[1, 2, 1, 1],\n",
    "          [2, 1, 3, 2],\n",
    "          [3, 1, 3, 4],\n",
    "          [4, 1, 5, 5],\n",
    "          [1, 7, 5, 5],\n",
    "          [1, 2, 5, 6],\n",
    "          [1, 6, 6, 6],\n",
    "          [1, 7, 7, 7]]\n",
    "y_data = [[0, 0, 1],\n",
    "          [0, 0, 1],\n",
    "          [0, 0, 1],\n",
    "          [0, 1, 0],\n",
    "          [0, 1, 0],\n",
    "          [0, 1, 0],\n",
    "          [1, 0, 0],\n",
    "          [1, 0, 0]]\n",
    "\n",
    "\n",
    "X = tf.placeholder(\"float\", [None, 4])\n",
    "Y = tf.placeholder(\"float\", [None, 3])\n",
    "\n",
    "W = tf.Variable(tf.random_normal([4, 3]), name='weight')\n",
    "b = tf.Variable(tf.random_normal([3]), name='bias')\n",
    "\n",
    "hypothesis=tf.nn.softmax(tf.matmul(X,W)+b)\n",
    "\n",
    "        \n",
    "cost = tf.reduce_mean(-tf.reduce_sum(Y * tf.log(hypothesis), axis=1))\n",
    "\n",
    "\n",
    "optimizer=tf.train.GradientDescentOptimizer(learning_rate=0.1).minimize(cost)\n",
    "\n",
    "with tf.Session() as sess:\n",
    "    sess.run(tf.global_variables_initializer())\n",
    "    \n",
    "    for step in range(2001):\n",
    "        sess.run(optimizer,feed_dict={X:x_data, Y:y_data})\n",
    "        if step%200 == 0:\n",
    "            print(step,sess.run(cost,feed_dict={X:x_data, Y:y_data}))\n",
    "\n",
    "    print('--------------')\n",
    "    a = sess.run(hypothesis, feed_dict={X: [[1, 11, 7, 9]]})\n",
    "    print(a, sess.run(tf.arg_max(a, 1)))"
   ]
  },
  {
   "cell_type": "code",
   "execution_count": 68,
   "metadata": {},
   "outputs": [
    {
     "name": "stdout",
     "output_type": "stream",
     "text": [
      "4.95507 0.128713\n",
      "0.465986 0.90099\n",
      "0.276424 0.950495\n",
      "0.192368 0.970297\n",
      "0.145227 0.980198\n",
      "0.115374 0.980198\n",
      "0.0951611 1.0\n",
      "0.0808809 1.0\n",
      "0.0703976 1.0\n",
      "0.0624108 1.0\n",
      "0.0561227 1.0\n",
      "[True] Prediction : 0 True Y : 0\n",
      "[True] Prediction : 0 True Y : 0\n",
      "[True] Prediction : 3 True Y : 3\n",
      "[True] Prediction : 0 True Y : 0\n",
      "[True] Prediction : 0 True Y : 0\n",
      "[True] Prediction : 0 True Y : 0\n",
      "[True] Prediction : 0 True Y : 0\n",
      "[True] Prediction : 3 True Y : 3\n",
      "[True] Prediction : 3 True Y : 3\n",
      "[True] Prediction : 0 True Y : 0\n",
      "[True] Prediction : 0 True Y : 0\n",
      "[True] Prediction : 1 True Y : 1\n",
      "[True] Prediction : 3 True Y : 3\n",
      "[True] Prediction : 6 True Y : 6\n",
      "[True] Prediction : 6 True Y : 6\n",
      "[True] Prediction : 6 True Y : 6\n",
      "[True] Prediction : 1 True Y : 1\n",
      "[True] Prediction : 0 True Y : 0\n",
      "[True] Prediction : 3 True Y : 3\n",
      "[True] Prediction : 0 True Y : 0\n",
      "[True] Prediction : 1 True Y : 1\n",
      "[True] Prediction : 1 True Y : 1\n",
      "[True] Prediction : 0 True Y : 0\n",
      "[True] Prediction : 1 True Y : 1\n",
      "[True] Prediction : 5 True Y : 5\n",
      "[True] Prediction : 4 True Y : 4\n",
      "[True] Prediction : 4 True Y : 4\n",
      "[True] Prediction : 0 True Y : 0\n",
      "[True] Prediction : 0 True Y : 0\n",
      "[True] Prediction : 0 True Y : 0\n",
      "[True] Prediction : 5 True Y : 5\n",
      "[True] Prediction : 0 True Y : 0\n",
      "[True] Prediction : 0 True Y : 0\n",
      "[True] Prediction : 1 True Y : 1\n",
      "[True] Prediction : 3 True Y : 3\n",
      "[True] Prediction : 0 True Y : 0\n",
      "[True] Prediction : 0 True Y : 0\n",
      "[True] Prediction : 1 True Y : 1\n",
      "[True] Prediction : 3 True Y : 3\n",
      "[True] Prediction : 5 True Y : 5\n",
      "[True] Prediction : 5 True Y : 5\n",
      "[True] Prediction : 1 True Y : 1\n",
      "[True] Prediction : 5 True Y : 5\n",
      "[True] Prediction : 1 True Y : 1\n",
      "[True] Prediction : 0 True Y : 0\n",
      "[True] Prediction : 0 True Y : 0\n",
      "[True] Prediction : 6 True Y : 6\n",
      "[True] Prediction : 0 True Y : 0\n",
      "[True] Prediction : 0 True Y : 0\n",
      "[True] Prediction : 0 True Y : 0\n",
      "[True] Prediction : 0 True Y : 0\n",
      "[True] Prediction : 5 True Y : 5\n",
      "[True] Prediction : 4 True Y : 4\n",
      "[True] Prediction : 6 True Y : 6\n",
      "[True] Prediction : 0 True Y : 0\n",
      "[True] Prediction : 0 True Y : 0\n",
      "[True] Prediction : 1 True Y : 1\n",
      "[True] Prediction : 1 True Y : 1\n",
      "[True] Prediction : 1 True Y : 1\n",
      "[True] Prediction : 1 True Y : 1\n",
      "[True] Prediction : 3 True Y : 3\n",
      "[True] Prediction : 3 True Y : 3\n",
      "[True] Prediction : 2 True Y : 2\n",
      "[True] Prediction : 0 True Y : 0\n",
      "[True] Prediction : 0 True Y : 0\n",
      "[True] Prediction : 0 True Y : 0\n",
      "[True] Prediction : 0 True Y : 0\n",
      "[True] Prediction : 0 True Y : 0\n",
      "[True] Prediction : 0 True Y : 0\n",
      "[True] Prediction : 0 True Y : 0\n",
      "[True] Prediction : 0 True Y : 0\n",
      "[True] Prediction : 1 True Y : 1\n",
      "[True] Prediction : 6 True Y : 6\n",
      "[True] Prediction : 3 True Y : 3\n",
      "[True] Prediction : 0 True Y : 0\n",
      "[True] Prediction : 0 True Y : 0\n",
      "[True] Prediction : 2 True Y : 2\n",
      "[True] Prediction : 6 True Y : 6\n",
      "[True] Prediction : 1 True Y : 1\n",
      "[True] Prediction : 1 True Y : 1\n",
      "[True] Prediction : 2 True Y : 2\n",
      "[True] Prediction : 6 True Y : 6\n",
      "[True] Prediction : 3 True Y : 3\n",
      "[True] Prediction : 1 True Y : 1\n",
      "[True] Prediction : 0 True Y : 0\n",
      "[True] Prediction : 6 True Y : 6\n",
      "[True] Prediction : 3 True Y : 3\n",
      "[True] Prediction : 1 True Y : 1\n",
      "[True] Prediction : 5 True Y : 5\n",
      "[True] Prediction : 4 True Y : 4\n",
      "[True] Prediction : 2 True Y : 2\n",
      "[True] Prediction : 2 True Y : 2\n",
      "[True] Prediction : 3 True Y : 3\n",
      "[True] Prediction : 0 True Y : 0\n",
      "[True] Prediction : 0 True Y : 0\n",
      "[True] Prediction : 1 True Y : 1\n",
      "[True] Prediction : 0 True Y : 0\n",
      "[True] Prediction : 5 True Y : 5\n",
      "[True] Prediction : 0 True Y : 0\n",
      "[True] Prediction : 6 True Y : 6\n",
      "[True] Prediction : 1 True Y : 1\n"
     ]
    }
   ],
   "source": [
    "import tensorflow as tf\n",
    "import numpy as np\n",
    "tf.set_random_seed(777)  # for reproducibility\n",
    "xy=np.loadtxt('lect06_data-04-zoo.csv',delimiter=',',dtype=np.float32)\n",
    "x_data = xy[:,0:-1]\n",
    "y_data = xy[:,[-1]]\n",
    "\n",
    "nb_classes=7\n",
    "\n",
    "X = tf.placeholder(\"float\", [None, 16])\n",
    "Y = tf.placeholder(\"int32\", [None, 1])\n",
    "Y_one_hot=tf.one_hot(Y,nb_classes) # one hot shape(?,1,7)\n",
    "Y_one_hot=tf.reshape(Y_one_hot,[-1,nb_classes])#shape(?,7) -1 means everything\n",
    "\n",
    "\n",
    "W = tf.Variable(tf.random_normal([16, nb_classes]), name='weight')\n",
    "b = tf.Variable(tf.random_normal([nb_classes]), name='bias')\n",
    "#you can test for above one hot encodings with below\n",
    "# sess=tf.Session()\n",
    "# print(sess.run(Y_one_hot,feed_dict={Y:y_data}))\n",
    "\n",
    "\n",
    "# method 1\n",
    "# hypothesis=tf.nn.softmax(tf.matmul(X,W)+b)\n",
    "# cost = tf.reduce_mean(-tf.reduce_sum(Y * tf.log(hypothesis), axis=1))\n",
    "# method 2 (It's so fancy! I don't know why well tho)\n",
    "logits=tf.matmul(X,W)+b\n",
    "hypothesis=tf.nn.softmax(tf.matmul(X,W)+b)\n",
    "cost_i=tf.nn.softmax_cross_entropy_with_logits(logits=logits,labels=Y_one_hot)\n",
    "cost=tf.reduce_mean(cost_i)\n",
    "\n",
    "optimizer=tf.train.GradientDescentOptimizer(learning_rate=0.1).minimize(cost)\n",
    "\n",
    "prediction=tf.argmax(hypothesis,1)\n",
    "correct_prediction=tf.equal(prediction,tf.argmax(Y_one_hot,1))\n",
    "accuracy=tf.reduce_mean(tf.cast(correct_prediction,tf.float32))\n",
    "\n",
    "with tf.Session() as sess:\n",
    "    sess.run(tf.global_variables_initializer())\n",
    "    \n",
    "    \n",
    "    for step in range(2001):\n",
    "        _,c,a=sess.run([optimizer, cost, accuracy],feed_dict={X:x_data, Y:y_data})\n",
    "        if step%200 == 0:\n",
    "            print(c,a)\n",
    "            \n",
    "    pred=sess.run(prediction,feed_dict={X:x_data})\n",
    "    for p,y in zip(pred,y_data.flatten()):\n",
    "        print(\"[{}] Prediction : {} True Y : {}\".format(p==int(y),p,int(y)))"
   ]
  },
  {
   "cell_type": "code",
   "execution_count": 2,
   "metadata": {},
   "outputs": [
    {
     "ename": "IndentationError",
     "evalue": "unexpected indent (<ipython-input-2-567d593f5560>, line 4)",
     "output_type": "error",
     "traceback": [
      "\u001b[0;36m  File \u001b[0;32m\"<ipython-input-2-567d593f5560>\"\u001b[0;36m, line \u001b[0;32m4\u001b[0m\n\u001b[0;31m    a = sess.run(hypothesis, feed_dict={X: [[1, 11, 7, 9]]})\u001b[0m\n\u001b[0m    ^\u001b[0m\n\u001b[0;31mIndentationError\u001b[0m\u001b[0;31m:\u001b[0m unexpected indent\n"
     ]
    }
   ],
   "source": [
    "\n",
    "\n",
    "    \n",
    "    a = sess.run(hypothesis, feed_dict={X: [[1, 11, 7, 9]]})\n",
    "    print('--------------')\n",
    "    print(a, sess.run(tf.arg_max(a, 1)))\n",
    "    "
   ]
  },
  {
   "cell_type": "code",
   "execution_count": 3,
   "metadata": {
    "collapsed": true
   },
   "outputs": [],
   "source": [
    "y_data = [[0, 0, 1],\n",
    "          [0, 0, 1],\n",
    "          [0, 0, 1],\n",
    "          [0, 1, 0],\n",
    "          [0, 1, 0],\n",
    "          [0, 1, 0],\n",
    "          [1, 0, 0],\n",
    "          [1, 0, 0]]\n"
   ]
  },
  {
   "cell_type": "code",
   "execution_count": 4,
   "metadata": {
    "collapsed": true
   },
   "outputs": [],
   "source": [
    "import numpy as np"
   ]
  },
  {
   "cell_type": "code",
   "execution_count": 9,
   "metadata": {},
   "outputs": [
    {
     "data": {
      "text/plain": [
       "array([1, 1, 1, 1, 1, 1, 1, 1])"
      ]
     },
     "execution_count": 9,
     "metadata": {},
     "output_type": "execute_result"
    }
   ],
   "source": [
    "np.sum(y_data,axis=1)"
   ]
  },
  {
   "cell_type": "code",
   "execution_count": null,
   "metadata": {
    "collapsed": true
   },
   "outputs": [],
   "source": []
  }
 ],
 "metadata": {
  "kernelspec": {
   "display_name": "Python 3",
   "language": "python",
   "name": "python3"
  },
  "language_info": {
   "codemirror_mode": {
    "name": "ipython",
    "version": 3
   },
   "file_extension": ".py",
   "mimetype": "text/x-python",
   "name": "python",
   "nbconvert_exporter": "python",
   "pygments_lexer": "ipython3",
   "version": "3.5.2"
  }
 },
 "nbformat": 4,
 "nbformat_minor": 2
}
