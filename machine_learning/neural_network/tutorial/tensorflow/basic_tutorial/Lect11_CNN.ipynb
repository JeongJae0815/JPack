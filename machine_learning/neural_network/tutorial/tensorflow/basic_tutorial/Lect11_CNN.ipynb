{
 "cells": [
  {
   "cell_type": "code",
   "execution_count": null,
   "metadata": {},
   "outputs": [],
   "source": [
    "#https://cs.stanford.edu/people/karpathy/convnetjs/demo/cifar10.html\n",
    "%matplotlib inline\n",
    "import numpy as np\n",
    "import tensorflow as tf\n",
    "import matplotlib.pyplot as plt\n",
    "sess = tf.InteractiveSession()\n",
    "image = np.array([[[[1],[2],[3]],\n",
    "                   [[4],[5],[6]], \n",
    "                   [[7],[8],[9]]]], dtype=np.float32)\n",
    "print(image.shape)\n",
    "plt.imshow(image.reshape(3,3), cmap='Greys')"
   ]
  },
  {
   "cell_type": "code",
   "execution_count": 3,
   "metadata": {},
   "outputs": [
    {
     "name": "stdout",
     "output_type": "stream",
     "text": [
      "image.shape (1, 3, 3, 1)\n",
      "weight.shape (2, 2, 1, 1)\n",
      "conv2d_img.shape (1, 2, 2, 1)\n",
      "[[12. 16.]\n",
      " [24. 28.]]\n"
     ]
    },
    {
     "data": {
      "image/png": "[encoded data removed]",
      "text/plain": [
       "<Figure size 432x288 with 1 Axes>"
      ]
     },
     "metadata": {},
     "output_type": "display_data"
    }
   ],
   "source": [
    "print(\"image.shape\", image.shape)\n",
    "weight=tf.constant([[[[1.]],[[1.]]],\n",
    "                    [[[1.]],[[1.]]]])\n",
    "print(\"weight.shape\", weight.shape)\n",
    "conv2d=tf.nn.conv2d(image,weight,strides=[1,1,1,1],padding='VALID')\n",
    "#hmm why does it set strides to 1 1 1 1 ??? what does it mean?\n",
    "conv2d_img=conv2d.eval()\n",
    "print(\"conv2d_img.shape\", conv2d_img.shape)\n",
    "\n",
    "#this is show what is result.\n",
    "conv2d_img = np.swapaxes(conv2d_img, 0, 3)\n",
    "for i, one_img in enumerate(conv2d_img):\n",
    "    print(one_img.reshape(2,2))\n",
    "    plt.subplot(1,2,i+1), plt.imshow(one_img.reshape(2,2), cmap='gray')\n",
    "    \n",
    "    "
   ]
  },
  {
   "cell_type": "code",
   "execution_count": null,
   "metadata": {},
   "outputs": [],
   "source": [
    "# print(\"imag:\\n\", image)\n",
    "print(\"image.shape\", image.shape)\n",
    "\n",
    "weight = tf.constant([[[[1.]],[[1.]]],\n",
    "                      [[[1.]],[[1.]]]])\n",
    "print(\"weight.shape\", weight.shape)\n",
    "conv2d = tf.nn.conv2d(image, weight, strides=[1, 1, 1, 1], padding='SAME')\n",
    "conv2d_img = conv2d.eval()\n",
    "print(\"conv2d_img.shape\", conv2d_img.shape)\n",
    "conv2d_img = np.swapaxes(conv2d_img, 0, 3)\n",
    "for i, one_img in enumerate(conv2d_img):\n",
    "    print(one_img.reshape(3,3))\n",
    "    plt.subplot(1,2,i+1), plt.imshow(one_img.reshape(3,3), cmap='gray')"
   ]
  },
  {
   "cell_type": "code",
   "execution_count": null,
   "metadata": {},
   "outputs": [],
   "source": [
    "print(\"image.shape\",image.shape)\n",
    "weight=tf.constant([[[[1.0,  10.0, -1.0]],[[1.0,  10.0, -1.0]]],\n",
    "                    [[[1.0,  10.0, -1.0]],[[1.0,  10.0, -1.0]]]])\n",
    "print(\"weight.shape\",weight.shape)\n",
    "conv2d= tf.nn.conv2d(image, weight, strides=[1,1,1,1],padding='SAME')\n",
    "conv2d_img=conv2d.eval()\n",
    "print(\"conv2d_img.shape\", conv2d_img.shape)\n",
    "conv2d_img = np.swapaxes(conv2d_img, 0, 3)\n",
    "for i, one_img in enumerate(conv2d_img):\n",
    "    print(one_img.reshape(3,3))\n",
    "    plt.subplot(1,3,i+1), plt.imshow(one_img.reshape(3,3), cmap='gray')"
   ]
  },
  {
   "cell_type": "code",
   "execution_count": null,
   "metadata": {},
   "outputs": [],
   "source": [
    "imgae=np.array([[[[4],[3]],\n",
    "                [[2],[1]]]],dtype=np.float32)\n",
    "pool=tf.nn.max_pool(image, ksize=[1, 2, 2, 1], \n",
    "                   strides=[1,1,1,1],padding='VALID')\n",
    "print(pool.shape)\n",
    "print(pool.eval())"
   ]
  },
  {
   "cell_type": "code",
   "execution_count": null,
   "metadata": {},
   "outputs": [],
   "source": [
    "\n",
    "image = np.array([[[[4],[3]],\n",
    "                    [[2],[1]]]], dtype=np.float32)\n",
    "pool = tf.nn.max_pool(image, ksize=[1, 2, 2, 1],\n",
    "                    strides=[1, 1, 1, 1], padding='SAME')\n",
    "print(pool.shape)\n",
    "print(pool.eval())\n"
   ]
  },
  {
   "cell_type": "code",
   "execution_count": null,
   "metadata": {},
   "outputs": [],
   "source": [
    "from tensorflow.examples.tutorials.mnist import input_data\n",
    "mnist = input_data.read_data_sets(\"MNIST_data/\", one_hot=True)\n",
    "img = mnist.train.images[0].reshape(28,28)\n",
    "plt.imshow(img, cmap='gray')"
   ]
  },
  {
   "cell_type": "code",
   "execution_count": null,
   "metadata": {},
   "outputs": [],
   "source": [
    "sess=tf.InteractiveSession()\n",
    "\n",
    "img=img.reshape(-1,28,28,1)\n",
    "W1=tf.Variable(tf.random_normal([3,3,1,5],stddev=0.01))\n",
    "conv2d=tf.nn.conv2d(img,W1,strides=[1,2,2,1], padding='SAME')\n",
    "print(conv2d)\n",
    "sess.run(tf.global_variables_initializer())\n",
    "conv2d_img = conv2d.eval()\n",
    "conv2d_img = np.swapaxes(conv2d_img, 0, 3)\n",
    "for i, one_img in enumerate(conv2d_img):\n",
    "    plt.subplot(1,5,i+1), plt.imshow(one_img.reshape(14,14), cmap='gray')    "
   ]
  },
  {
   "cell_type": "code",
   "execution_count": null,
   "metadata": {},
   "outputs": [],
   "source": [
    "pool = tf.nn.max_pool(conv2d, ksize=[1, 2, 2, 1], strides=[\n",
    "                        1, 2, 2, 1], padding='SAME')\n",
    "print(pool)\n",
    "sess.run(tf.global_variables_initializer())\n",
    "pool_img = pool.eval()\n",
    "pool_img = np.swapaxes(pool_img, 0, 3)\n",
    "for i, one_img in enumerate(pool_img):\n",
    "    plt.subplot(1,5,i+1), plt.imshow(one_img.reshape(7, 7), cmap='gray')\n",
    "    "
   ]
  },
  {
   "cell_type": "code",
   "execution_count": null,
   "metadata": {},
   "outputs": [],
   "source": [
    "import numpy as np\n",
    "import tensorflow as tf\n",
    "import matplotlib.pyplot as plt\n",
    "from tensorflow.examples.tutorials.mnist import input_data\n",
    "\n",
    "tf.set_random_seed(777)  # reproducibility\n",
    "\n",
    "mnist = input_data.read_data_sets(\"MNIST_data/\", one_hot=True)\n",
    "\n",
    "\n",
    "learning_rate = 0.001\n",
    "training_epochs = 15\n",
    "batch_size = 100\n",
    "\n",
    "X=tf.placeholder(tf.float32,[None, 784])\n",
    "X_img=tf.reshape(X,[-1,28,28,1])\n",
    "Y=tf.placeholder(tf.float32,[None,10])\n",
    "\n",
    "W1=tf.Variable(tf.random_normal([3,3,1,32],stddev=0.001))\n",
    "L1=tf.nn.conv2d(X_img,W1,strides=[1,1,1,1],padding='SAME')\n",
    "L1=tf.nn.relu(L1)\n",
    "L1=tf.nn.max_pool(L1,ksize=[1,2,2,1],strides=[1,2,2,1],padding='SAME')\n",
    "\n",
    "\n",
    "W2=tf.Variable(tf.random_normal([3,3,32,64],stddev=0.001))\n",
    "L2=tf.nn.conv2d(L1,W2,strides=[1,1,1,1],padding='SAME')\n",
    "L2=tf.nn.relu(L2)\n",
    "L2=tf.nn.max_pool(L2,ksize=[1,2,2,1],strides=[1,2,2,1],padding='SAME')\n",
    "L2=tf.reshape(L2,[-1,7*7*64])\n",
    "W3 = tf.get_variable(\"W3\", shape=[7 * 7 * 64, 10],initializer=tf.contrib.layers.xavier_initializer())\n",
    "b = tf.Variable(tf.random_normal([10]))\n",
    "logits=tf.matmul(L2,W3)+b\n",
    "cost = tf.reduce_mean(tf.nn.softmax_cross_entropy_with_logits(logits=logits, labels=Y))\n",
    "optimizer = tf.train.AdamOptimizer(learning_rate=learning_rate).minimize(cost)\n",
    "sess = tf.Session()\n",
    "sess.run(tf.global_variables_initializer())\n",
    "\n",
    "# train my model\n",
    "print('Learning started. It takes sometime.')\n",
    "for epoch in range(training_epochs):\n",
    "    avg_cost = 0\n",
    "    total_batch = int(mnist.train.num_examples / batch_size)\n",
    "\n",
    "    for i in range(total_batch):\n",
    "        batch_xs, batch_ys = mnist.train.next_batch(batch_size)\n",
    "        feed_dict = {X: batch_xs, Y: batch_ys}\n",
    "        c, _ = sess.run([cost, optimizer], feed_dict=feed_dict)\n",
    "        avg_cost += c / total_batch\n",
    "\n",
    "    print('Epoch:', '%04d' % (epoch + 1), 'cost =', '{:.9f}'.format(avg_cost))\n",
    "    \n",
    "correct_prediction = tf.equal(tf.argmax(logits, 1), tf.argmax(Y, 1))\n",
    "accuracy = tf.reduce_mean(tf.cast(correct_prediction, tf.float32))\n",
    "print('Accuracy:', sess.run(accuracy, feed_dict={\n",
    "      X: mnist.test.images, Y: mnist.test.labels}))"
   ]
  },
  {
   "cell_type": "code",
   "execution_count": null,
   "metadata": {
    "scrolled": true
   },
   "outputs": [],
   "source": [
    "import numpy as np\n",
    "import tensorflow as tf\n",
    "import matplotlib.pyplot as plt\n",
    "from tensorflow.examples.tutorials.mnist import input_data\n",
    "\n",
    "tf.set_random_seed(777)  # reproducibility\n",
    "\n",
    "mnist = input_data.read_data_sets(\"MNIST_data/\", one_hot=True)\n",
    "\n",
    "\n",
    "learning_rate = 0.001\n",
    "training_epochs = 15\n",
    "batch_size = 100\n",
    "\n",
    "keep_prob = tf.placeholder(tf.float32)\n",
    "\n",
    "X=tf.placeholder(tf.float32,[None, 784])\n",
    "X_img=tf.reshape(X,[-1,28,28,1])\n",
    "Y=tf.placeholder(tf.float32,[None,10])\n",
    "\n",
    "W1=tf.Variable(tf.random_normal([3,3,1,32],stddev=0.001))\n",
    "L1=tf.nn.conv2d(X_img,W1,strides=[1,1,1,1],padding='SAME')\n",
    "L1=tf.nn.relu(L1)\n",
    "L1=tf.nn.max_pool(L1,ksize=[1,2,2,1],strides=[1,2,2,1],padding='SAME')\n",
    "L1=tf.nn.dropout(L1,keep_prob=keep_prob)\n",
    "\n",
    "\n",
    "W2=tf.Variable(tf.random_normal([3,3,32,64],stddev=0.001))\n",
    "L2=tf.nn.conv2d(L1,W2,strides=[1,1,1,1],padding='SAME')\n",
    "L2=tf.nn.relu(L2)\n",
    "L2=tf.nn.max_pool(L2,ksize=[1,2,2,1],strides=[1,2,2,1],padding='SAME')\n",
    "L2=tf.nn.dropout(L2,keep_prob=keep_prob)\n",
    "\n",
    "W3=tf.Variable(tf.random_normal([3,3,64,128],stddev=0.001))\n",
    "L3=tf.nn.conv2d(L2,W3,strides=[1,1,1,1],padding='SAME')\n",
    "L3=tf.nn.relu(L3)\n",
    "L3=tf.nn.max_pool(L3,ksize=[1,2,2,1],strides=[1,2,2,1],padding='SAME')\n",
    "L3=tf.reshape(L3,[-1,4*4*128])\n",
    "L3=tf.nn.dropout(L3,keep_prob=keep_prob)\n",
    "\n",
    "W4 = tf.get_variable(\"W4\", shape=[4 * 4 * 128, 625],initializer=tf.contrib.layers.xavier_initializer())\n",
    "b4 = tf.Variable(tf.random_normal([625]))\n",
    "L4=tf.nn.relu(tf.matmul(L3,W4)+b4)\n",
    "L4=tf.nn.dropout(L4,keep_prob=keep_prob)\n",
    "\n",
    "W5 = tf.get_variable(\"W5\", shape=[625, 10],initializer=tf.contrib.layers.xavier_initializer())\n",
    "b5 = tf.Variable(tf.random_normal([10]))\n",
    "logits=tf.matmul(L4,W5)+b5\n",
    "\n",
    "\n",
    "\n",
    "\n",
    "\n",
    "cost = tf.reduce_mean(tf.nn.softmax_cross_entropy_with_logits(logits=logits, labels=Y))\n",
    "optimizer = tf.train.AdamOptimizer(learning_rate=learning_rate).minimize(cost)\n",
    "sess = tf.Session()\n",
    "sess.run(tf.global_variables_initializer())\n",
    "\n",
    "# train my model\n",
    "print('Learning started. It takes sometime.')\n",
    "for epoch in range(training_epochs):\n",
    "    avg_cost = 0\n",
    "    total_batch = int(mnist.train.num_examples / batch_size)\n",
    "\n",
    "    for i in range(total_batch):\n",
    "        batch_xs, batch_ys = mnist.train.next_batch(batch_size)\n",
    "        feed_dict = {X: batch_xs, Y: batch_ys,keep_prob:0.7}\n",
    "        c, _ = sess.run([cost, optimizer], feed_dict=feed_dict)\n",
    "        avg_cost += c / total_batch\n",
    "\n",
    "    print('Epoch:', '%04d' % (epoch + 1), 'cost =', '{:.9f}'.format(avg_cost))\n",
    "    \n",
    "correct_prediction = tf.equal(tf.argmax(logits, 1), tf.argmax(Y, 1))\n",
    "accuracy = tf.reduce_mean(tf.cast(correct_prediction, tf.float32))\n",
    "print('Accuracy:', sess.run(accuracy, feed_dict={X: mnist.test.images, Y: mnist.test.labels,keep_prob:1}))"
   ]
  },
  {
   "cell_type": "code",
   "execution_count": null,
   "metadata": {},
   "outputs": [],
   "source": [
    "print(logits)"
   ]
  },
  {
   "cell_type": "code",
   "execution_count": null,
   "metadata": {},
   "outputs": [],
   "source": [
    "print(L2)"
   ]
  },
  {
   "cell_type": "code",
   "execution_count": null,
   "metadata": {},
   "outputs": [],
   "source": [
    "a=mnist.count"
   ]
  },
  {
   "cell_type": "code",
   "execution_count": null,
   "metadata": {},
   "outputs": [],
   "source": [
    "mnist.train."
   ]
  },
  {
   "cell_type": "code",
   "execution_count": null,
   "metadata": {},
   "outputs": [],
   "source": [
    "import numpy as np\n",
    "import tensorflow as tf\n",
    "import matplotlib.pyplot as plt\n",
    "from tensorflow.examples.tutorials.mnist import input_data\n",
    "\n",
    "tf.set_random_seed(777)  # reproducibility\n",
    "\n",
    "mnist = input_data.read_data_sets(\"MNIST_data/\", one_hot=False)\n"
   ]
  },
  {
   "cell_type": "code",
   "execution_count": null,
   "metadata": {},
   "outputs": [],
   "source": [
    "mnist.train."
   ]
  },
  {
   "cell_type": "code",
   "execution_count": null,
   "metadata": {},
   "outputs": [],
   "source": [
    "m"
   ]
  },
  {
   "cell_type": "code",
   "execution_count": null,
   "metadata": {},
   "outputs": [],
   "source": [
    "label=mnist.train.labels[mnist.train.labels<=1].reshape(-1,1)"
   ]
  },
  {
   "cell_type": "code",
   "execution_count": null,
   "metadata": {},
   "outputs": [],
   "source": [
    "data=mnist.train.images[mnist.train.labels<=1]"
   ]
  },
  {
   "cell_type": "code",
   "execution_count": null,
   "metadata": {},
   "outputs": [],
   "source": [
    "label.shape"
   ]
  },
  {
   "cell_type": "code",
   "execution_count": null,
   "metadata": {},
   "outputs": [],
   "source": [
    "d=np.append(data,label,1)"
   ]
  },
  {
   "cell_type": "code",
   "execution_count": null,
   "metadata": {},
   "outputs": [],
   "source": [
    "d.shape"
   ]
  },
  {
   "cell_type": "code",
   "execution_count": null,
   "metadata": {},
   "outputs": [],
   "source": [
    "import tensorflow as tf\n",
    "import numpy as np\n",
    "from skimage import data, io, filters\n",
    "from mlxtend.preprocessing import one_hot\n",
    "import matplotlib.pyplot as plt\n",
    "import random\n",
    "\n",
    "# set train data path\n",
    "train_data_path = 'data/out.txt'\n",
    "class DataRead:\n",
    "    def __init__(self, data_path,batch_size,prepro=True,pro_data=0):\n",
    "        self.data_path=data_path\n",
    "        self.batch_size = batch_size\n",
    "        self.batch_num = 0\n",
    "        \n",
    "        #data read & preprocessing\n",
    "        if(prepro):\n",
    "            #data read\n",
    "            with open(train_data_path) as f:\n",
    "                data=f.readlines()\n",
    "                \n",
    "            #data preprocessing\n",
    "            a=np.arange(np.size(data))\n",
    "            a=a[a%2!=0]\n",
    "            tmp=[data[i] for i in a]\n",
    "            train_string=[d.split(\",\")[:] for d in tmp]\n",
    "            for i in range(np.size(train_string,0)):\n",
    "                train_string[i][-1]=float(train_string[i][-1]=='t\\n')\n",
    "            train=np.array([[float(d) for d in line ]for line in train_string])\n",
    "        else:\n",
    "            train=pro_data\n",
    "        \n",
    "        #total_batch\n",
    "        self.total_batch = int(np.floor(np.size(train,0) / self.batch_size))\n",
    "        \n",
    "        # shuffle\n",
    "        ind_shuff=np.arange(np.size(train,0))\n",
    "        random.shuffle(ind_shuff)\n",
    "        train=train[ind_shuff,:]\n",
    "        \n",
    "        self.train=train[:,:-1]\n",
    "        self.label=train[:,-1].reshape(-1,1)\n",
    "        \n",
    "    def Next_Batch(self):\n",
    "        batch_num = int(self.batch_num)\n",
    "        batch_size = int(self.batch_size)\n",
    "        \n",
    "        data=self.train[batch_num * batch_size:(batch_num + 1) * batch_size,:]\n",
    "        label=self.label[batch_num * batch_size:(batch_num + 1) * batch_size]\n",
    "        \n",
    "        self.batch_num = self.batch_num + 1\n",
    "        if self.batch_num > self.total_batch:\n",
    "            self.batch_num = 0\n",
    "        return (data , label)"
   ]
  },
  {
   "cell_type": "code",
   "execution_count": null,
   "metadata": {},
   "outputs": [],
   "source": [
    "train=DataRead(train_data_path,40,False,d)"
   ]
  },
  {
   "cell_type": "code",
   "execution_count": null,
   "metadata": {},
   "outputs": [],
   "source": [
    "train."
   ]
  },
  {
   "cell_type": "code",
   "execution_count": null,
   "metadata": {},
   "outputs": [],
   "source": [
    "train.label.shape"
   ]
  },
  {
   "cell_type": "code",
   "execution_count": null,
   "metadata": {},
   "outputs": [],
   "source": [
    "nb_classes = 1\n",
    "learning_rate = 0.001\n",
    "training_epochs = 45"
   ]
  },
  {
   "cell_type": "code",
   "execution_count": null,
   "metadata": {},
   "outputs": [],
   "source": [
    "\n",
    "keep_prob = tf.placeholder(tf.float32)\n",
    "\n",
    "X=tf.placeholder(tf.float32,[None, 784])\n",
    "X_img=tf.reshape(X,[-1,28,28,1])\n",
    "Y=tf.placeholder(tf.float32,[None,nb_classes])"
   ]
  },
  {
   "cell_type": "code",
   "execution_count": null,
   "metadata": {},
   "outputs": [],
   "source": [
    "\n",
    "W1=tf.Variable(tf.random_normal([3,3,1,32],stddev=0.001))\n",
    "L1=tf.nn.conv2d(X_img,W1,strides=[1,1,1,1],padding='SAME')\n",
    "L1=tf.nn.relu(L1)\n",
    "L1=tf.nn.max_pool(L1,ksize=[1,2,2,1],strides=[1,2,2,1],padding='SAME')\n",
    "L1=tf.nn.dropout(L1,keep_prob=keep_prob)\n",
    "\n",
    "\n",
    "W2=tf.Variable(tf.random_normal([3,3,32,64],stddev=0.001))\n",
    "L2=tf.nn.conv2d(L1,W2,strides=[1,1,1,1],padding='SAME')\n",
    "L2=tf.nn.relu(L2)\n",
    "L2=tf.nn.max_pool(L2,ksize=[1,2,2,1],strides=[1,2,2,1],padding='SAME')\n",
    "L2=tf.nn.dropout(L2,keep_prob=keep_prob)\n",
    "\n",
    "W3=tf.Variable(tf.random_normal([3,3,64,128],stddev=0.001))\n",
    "L3=tf.nn.conv2d(L2,W3,strides=[1,1,1,1],padding='SAME')\n",
    "L3=tf.nn.relu(L3)\n",
    "L3=tf.nn.max_pool(L3,ksize=[1,2,2,1],strides=[1,2,2,1],padding='SAME')\n",
    "\n",
    "L3=tf.reshape(L3,[-1,4*4*128])\n",
    "L3=tf.nn.dropout(L3,keep_prob=keep_prob)\n",
    "\n",
    "W4 = tf.get_variable(\"W4\", shape=[4 * 4 * 128, 625],initializer=tf.contrib.layers.xavier_initializer())\n",
    "b4 = tf.Variable(tf.random_normal([625]))\n",
    "L4=tf.nn.relu(tf.matmul(L3,W4)+b4)\n",
    "L4=tf.nn.dropout(L4,keep_prob=keep_prob)\n",
    "\n",
    "W5 = tf.get_variable(\"W5\", shape=[625, 1],initializer=tf.contrib.layers.xavier_initializer())\n",
    "b5 = tf.Variable(tf.random_normal([1]))\n",
    "logits=tf.matmul(L4,W5)+b5\n",
    "\n",
    "\n",
    "cost = tf.reduce_mean(tf.nn.softmax_cross_entropy_with_logits(logits=logits, labels=Y))\n",
    "optimizer = tf.train.AdamOptimizer(learning_rate=learning_rate).minimize(cost)\n",
    "sess = tf.Session()\n",
    "sess.run(tf.global_variables_initializer())\n",
    "\n",
    "\n",
    "# train my model\n",
    "print('Learning started. It takes sometime.')\n",
    "for epoch in range(training_epochs):\n",
    "    avg_cost = 0\n",
    "    total_batch =  train.total_batch\n",
    "\n",
    "    for i in range(total_batch):\n",
    "        batch_xs, batch_ys = train.Next_Batch()\n",
    "        feed_dict = {X: batch_xs, Y: batch_ys,keep_prob:0.7}\n",
    "        c, _ = sess.run([cost, optimizer], feed_dict=feed_dict)\n",
    "        avg_cost += c / total_batch\n",
    "\n",
    "    print('Epoch:', '%04d' % (epoch + 1), 'cost =', '{:.9f}'.format(avg_cost))"
   ]
  },
  {
   "cell_type": "code",
   "execution_count": null,
   "metadata": {},
   "outputs": [],
   "source": [
    "np.size(label[label==0])"
   ]
  },
  {
   "cell_type": "code",
   "execution_count": null,
   "metadata": {},
   "outputs": [],
   "source": [
    "label"
   ]
  },
  {
   "cell_type": "code",
   "execution_count": null,
   "metadata": {},
   "outputs": [],
   "source": [
    "class park:\n",
    "    def __init__(self,k,d):\n",
    "    self.k=k\n",
    "    self.d=d\n",
    "    \n",
    "class family(park):\n",
    "    par\n",
    "    "
   ]
  },
  {
   "cell_type": "code",
   "execution_count": null,
   "metadata": {},
   "outputs": [],
   "source": [
    "#!/usr/bin/env python\n",
    "\n",
    "import os\n",
    "import scipy as scp\n",
    "import scipy.misc\n",
    "\n",
    "import numpy as np\n",
    "import logging\n",
    "import tensorflow as tf\n",
    "import sys\n",
    "from math import ceil\n",
    "\n",
    "from tensorflow.python.framework import ops\n",
    "\n",
    "img1 = scp.misc.imread(\"../Semantic_segmentation/FCN/tensorflow-fcn-master/test_data/tabby_cat.png\")\n"
   ]
  },
  {
   "cell_type": "code",
   "execution_count": 183,
   "metadata": {},
   "outputs": [
    {
     "ename": "SyntaxError",
     "evalue": "invalid syntax (<ipython-input-183-c5b27a687a80>, line 132)",
     "output_type": "error",
     "traceback": [
      "\u001b[0;36m  File \u001b[0;32m\"<ipython-input-183-c5b27a687a80>\"\u001b[0;36m, line \u001b[0;32m132\u001b[0m\n\u001b[0;31m    value = (1 - abs(x / f - c)) * (1 - abs(y / f - c)) ( 1 - |  |)\u001b[0m\n\u001b[0m                                                              ^\u001b[0m\n\u001b[0;31mSyntaxError\u001b[0m\u001b[0;31m:\u001b[0m invalid syntax\n"
     ]
    }
   ],
   "source": [
    "import os\n",
    "import logging\n",
    "from math import ceil\n",
    "import sys\n",
    "\n",
    "import numpy as np\n",
    "import tensorflow as tf\n",
    "\n",
    "VGG_MEAN = [103.939, 116.779, 123.68]\n",
    "images = tf.placeholder(\"float\")\n",
    "feed_dict = {images: img1}\n",
    "batch_images = tf.expand_dims(images, 0)\n",
    "X=batch_images\n",
    "\n",
    "W1_1=tf.Variable(tf.random_normal([3,3,3,64],stddev=0.001))\n",
    "L1_1=tf.nn.conv2d(X,W1_1,strides=[1,1,1,1],padding='SAME')\n",
    "b1_1 = tf.Variable(tf.random_normal([64]))\n",
    "L1_1 = tf.nn.bias_add(L1_1, b1_1)\n",
    "L1_1=tf.nn.relu(L1_1)\n",
    "\n",
    "W1_2=tf.Variable(tf.random_normal([3,3,64,64],stddev=0.001))\n",
    "L1_2=tf.nn.conv2d(L1_1,W1_2,strides=[1,1,1,1],padding='SAME')\n",
    "b1_2 = tf.Variable(tf.random_normal([64]))\n",
    "L1_2 = tf.nn.bias_add(L1_2, b1_2)\n",
    "L1_2=tf.nn.relu(L1_2)# (?, 368, 489, 64)\n",
    "L1=tf.nn.max_pool(L1_2,ksize=[1,2,2,1],strides=[1,2,2,1],padding='SAME') #(?, 185, 245, 64)\n",
    "#--------------------------------------------------------------------------------------------------------------\n",
    "W2_1=tf.Variable(tf.random_normal([3,3,64,128],stddev=0.001))\n",
    "L2_1=tf.nn.conv2d(L1,W2_1,strides=[1,1,1,1],padding='SAME')\n",
    "b2_1 = tf.Variable(tf.random_normal([128]))\n",
    "L2_1 = tf.nn.bias_add(L2_1, b2_1)\n",
    "L2_1=tf.nn.relu(L2_1)\n",
    "\n",
    "W2_2=tf.Variable(tf.random_normal([3,3,128,128],stddev=0.001))\n",
    "L2_2=tf.nn.conv2d(L2_1,W2_2,strides=[1,1,1,1],padding='SAME')\n",
    "b2_2 = tf.Variable(tf.random_normal([128]))\n",
    "L2_2 = tf.nn.bias_add(L2_2, b2_2)\n",
    "L2_2=tf.nn.relu(L2_2)# (?, 185, 245, 128)\n",
    "L2=tf.nn.max_pool(L2_2,ksize=[1,2,2,1],strides=[1,2,2,1],padding='SAME') #(?, 92, 123, 128)\n",
    "\n",
    "#--------------------------------------------------------------------------------------------------------------\n",
    "W3_1=tf.Variable(tf.random_normal([3,3,128,256],stddev=0.001))\n",
    "L3_1=tf.nn.conv2d(L2,W3_1,strides=[1,1,1,1],padding='SAME')\n",
    "b3_1 = tf.Variable(tf.random_normal([256]))\n",
    "L3_1 = tf.nn.bias_add(L3_1, b3_1)\n",
    "L3_1=tf.nn.relu(L3_1)\n",
    "\n",
    "W3_2=tf.Variable(tf.random_normal([3,3,256,256],stddev=0.001))\n",
    "L3_2=tf.nn.conv2d(L3_1,W3_2,strides=[1,1,1,1],padding='SAME')\n",
    "b3_2 = tf.Variable(tf.random_normal([256]))\n",
    "L3_2 = tf.nn.bias_add(L3_2, b3_2)\n",
    "L3_2=tf.nn.relu(L3_2)# (?, 92, 123, 256)\n",
    "L3=tf.nn.max_pool(L3_2,ksize=[1,2,2,1],strides=[1,2,2,1],padding='SAME') #(?, 46, 62, 256)\n",
    "\n",
    "#--------------------------------------------------------------------------------------------------------------\n",
    "W4_1=tf.Variable(tf.random_normal([3,3,256,512],stddev=0.001))\n",
    "L4_1=tf.nn.conv2d(L3,W4_1,strides=[1,1,1,1],padding='SAME')\n",
    "b4_1 = tf.Variable(tf.random_normal([512]))\n",
    "L4_1 = tf.nn.bias_add(L4_1, b4_1)\n",
    "L4_1=tf.nn.relu(L4_1)\n",
    "\n",
    "W4_2=tf.Variable(tf.random_normal([3,3,512,512],stddev=0.001))\n",
    "L4_2=tf.nn.conv2d(L4_1,W4_2,strides=[1,1,1,1],padding='SAME')\n",
    "b4_2 = tf.Variable(tf.random_normal([512]))\n",
    "L4_2 = tf.nn.bias_add(L4_2, b4_2)\n",
    "L4_2=tf.nn.relu(L4_2)# (?, 46, 62, 512)\n",
    "L4=tf.nn.max_pool(L4_2,ksize=[1,2,2,1],strides=[1,2,2,1],padding='SAME') #(?, 23, 31, 512)\n",
    "\n",
    "#--------------------------------------------------------------------------------------------------------------\n",
    "W5_1=tf.Variable(tf.random_normal([3,3,512,512],stddev=0.001))\n",
    "L5_1=tf.nn.conv2d(L4,W5_1,strides=[1,1,1,1],padding='SAME')\n",
    "b5_1 = tf.Variable(tf.random_normal([512]))\n",
    "L5_1 = tf.nn.bias_add(L5_1, b5_1)\n",
    "L5_1=tf.nn.relu(L5_1)\n",
    "\n",
    "W5_2=tf.Variable(tf.random_normal([3,3,512,512],stddev=0.001))\n",
    "L5_2=tf.nn.conv2d(L5_1,W5_2,strides=[1,1,1,1],padding='SAME')\n",
    "b5_2 = tf.Variable(tf.random_normal([512]))\n",
    "L5_2 = tf.nn.bias_add(L5_2, b5_2)\n",
    "L5_2=tf.nn.relu(L5_2)# (?, 23, 31, 512)\n",
    "L5=tf.nn.max_pool(L5_2,ksize=[1,2,2,1],strides=[1,2,2,1],padding='SAME') #(?, 12, 16, 512)\n",
    "\n",
    "#--------------------------------------------------------------------------------------------------------------\n",
    "filt_fc6=tf.Variable(tf.random_normal([7,7,512,4096],stddev=0.001))\n",
    "fc6=tf.nn.conv2d(L5,filt_fc6,strides=[1,1,1,1],padding='SAME')\n",
    "fc6_b = tf.Variable(tf.random_normal([4096]))\n",
    "fc6 = tf.nn.bias_add(fc6, fc6_b)\n",
    "fc6 = tf.nn.relu(fc6)#(?, 12, 16, 4096)\n",
    "#fc6 = tf.nn.dropout(fc6, 0.5) for train\n",
    "\n",
    "#--------------------------------------------------------------------------------------------------------------\n",
    "filt_fc7=tf.Variable(tf.random_normal([1,1,4096,4096],stddev=0.001))\n",
    "fc7=tf.nn.conv2d(fc6,filt_fc7,strides=[1,1,1,1],padding='SAME')\n",
    "fc7_b = tf.Variable(tf.random_normal([4096]))\n",
    "fc7 = tf.nn.bias_add(fc7, fc7_b)\n",
    "fc7 = tf.nn.relu(fc7)#(?, 12, 16, 4096)\n",
    "#fc7= tf.nn.dropout(fc6, 0.5) for train\n",
    "\n",
    "#--------------------------------------------------------------------------------------------------------------\n",
    "filt_fc8=tf.Variable(tf.random_normal([1,1,4096,1000],stddev=0.001))\n",
    "fc8=tf.nn.conv2d(fc7,filt_fc8,strides=[1,1,1,1],padding='SAME')\n",
    "fc8_b = tf.Variable(tf.random_normal([1000]))\n",
    "fc8 = tf.nn.bias_add(fc8, fc8_b) #(?, 12, 16, 1000)\n",
    "#fc8 = tf.nn.relu(fc8)\n",
    "#fc8= tf.nn.dropout(fc6, 0.5) for train\n",
    "\n",
    "pred = tf.argmax(fc8, dimension=3)\n",
    "\n",
    "\n",
    "bottom=fc8 # ?,12,16,1000\n",
    "shape=tf.shape(L4) # ? , 23 , 31, 512\n",
    "stride=2\n",
    "ksize=4\n",
    "num_classes=1000\n",
    "strides = [1, stride, stride, 1] # = [1 , 2, 2, 1]\n",
    "in_features = bottom.get_shape()[3].value # = 1000\n",
    "new_shape = [shape[0], shape[1], shape[2], num_classes] # ?, 23, 31, 1000\n",
    "output_shape = tf.stack(new_shape)\n",
    "\n",
    "f_shape = [ksize, ksize, num_classes, in_features] # 4,4,1000,1000\n",
    "\n",
    "num_input = ksize * ksize * in_features / stride\n",
    "stddev = (2 / num_input)**0.5\n",
    "\n",
    "width = f_shape[0] # 4\n",
    "height = f_shape[1] # 4\n",
    "f = ceil(width/2.0) # 4 / 2 = 2\n",
    "c = (2 * f - 1 - f % 2) / (2.0 * f) # 2*2-1 -2%2 /(2*2)= (4-1-1)/4=0.5\n",
    "bilinear = np.zeros([f_shape[0], f_shape[1]]) # 4x4 zero matrix\n",
    "for x in range(width):\n",
    "    for y in range(height):\n",
    "        value = (1 - abs(x / f - c)) * (1 - abs(y / f - c)) # ( 1 - | x /2 -0.5 ) * (1 - | y/2 - 0.5)\n",
    "        bilinear[x, y] = value\n",
    "weights = np.zeros(f_shape)\n",
    "for i in range(f_shape[2]):\n",
    "    weights[:, :, i, i] = bilinear \n",
    "init = tf.constant_initializer(value=weights,dtype=tf.float32) \n",
    "var = tf.get_variable(name=\"up_filter\", initializer=init,shape=weights.shape) # 4,4,1000,1000\n",
    "deconv = tf.nn.conv2d_transpose(bottom, var, output_shape, strides=strides, padding='SAME')\n",
    "#tf.nn.conv2d_transpose(value,filter,output_shape, strides, padding='SAME',data_format='NHWC',name=None)\n",
    "\n",
    "with tf.Session() as sess:\n",
    "    sess.run(tf.global_variables_initializer())\n",
    "    a=sess.run(deconv, feed_dict=feed_dict)"
   ]
  },
  {
   "cell_type": "markdown",
   "metadata": {},
   "source": [
    "bilinear"
   ]
  },
  {
   "cell_type": "code",
   "execution_count": null,
   "metadata": {},
   "outputs": [],
   "source": [
    "a.shape"
   ]
  },
  {
   "cell_type": "code",
   "execution_count": null,
   "metadata": {},
   "outputs": [],
   "source": [
    "output_shape"
   ]
  },
  {
   "cell_type": "code",
   "execution_count": null,
   "metadata": {},
   "outputs": [],
   "source": [
    "weights"
   ]
  },
  {
   "cell_type": "code",
   "execution_count": null,
   "metadata": {},
   "outputs": [],
   "source": [
    "t = tf.constant([[[1, 1, 1], [2, 2, 2]], [[3, 3, 3], [4, 4, 4]]])\n",
    "a=tf.shape(t)  # [2, 2, 3]"
   ]
  },
  {
   "cell_type": "code",
   "execution_count": null,
   "metadata": {},
   "outputs": [],
   "source": [
    "b=tf.stack(a)"
   ]
  },
  {
   "cell_type": "code",
   "execution_count": null,
   "metadata": {},
   "outputs": [],
   "source": [
    "x = np.array([1, 4, 4])"
   ]
  },
  {
   "cell_type": "code",
   "execution_count": null,
   "metadata": {},
   "outputs": [],
   "source": [
    "xx=np.stack(x)"
   ]
  },
  {
   "cell_type": "code",
   "execution_count": null,
   "metadata": {},
   "outputs": [],
   "source": [
    "xx"
   ]
  },
  {
   "cell_type": "code",
   "execution_count": null,
   "metadata": {},
   "outputs": [],
   "source": [
    "output_shape"
   ]
  },
  {
   "cell_type": "code",
   "execution_count": null,
   "metadata": {},
   "outputs": [],
   "source": [
    "images = tf.placeholder(\"float\")\n",
    "feed_dict = {images: img1}\n",
    "batch_images = tf.expand_dims(images, 0)"
   ]
  },
  {
   "cell_type": "code",
   "execution_count": 5,
   "metadata": {},
   "outputs": [
    {
     "name": "stdout",
     "output_type": "stream",
     "text": [
      "(1, 3, 3, 1)\n"
     ]
    },
    {
     "data": {
      "text/plain": [
       "<matplotlib.image.AxesImage at 0x7fb800891be0>"
      ]
     },
     "execution_count": 5,
     "metadata": {},
     "output_type": "execute_result"
    },
    {
     "data": {
      "image/png": "[encoded data removed]",
      "text/plain": [
       "<Figure size 432x288 with 1 Axes>"
      ]
     },
     "metadata": {},
     "output_type": "display_data"
    }
   ],
   "source": [
    "%matplotlib inline\n",
    "import numpy as np\n",
    "import tensorflow as tf\n",
    "import matplotlib.pyplot as plt\n",
    "sess = tf.InteractiveSession()\n",
    "image = np.array([[[[1],[2],[3]],\n",
    "                   [[4],[5],[6]], \n",
    "                   [[7],[8],[9]]]], dtype=np.float32)\n",
    "print(image.shape)\n",
    "plt.imshow(image.reshape(3,3), cmap='Greys')"
   ]
  },
  {
   "cell_type": "code",
   "execution_count": 88,
   "metadata": {},
   "outputs": [
    {
     "name": "stdout",
     "output_type": "stream",
     "text": [
      "image.shape (1, 3, 3, 1)\n",
      "weight.shape (2, 2, 1, 1)\n",
      "conv2d_img.shape (1, 2, 2, 1)\n",
      "[[1. 2. 3.]\n",
      " [4. 5. 6.]\n",
      " [7. 8. 9.]]\n"
     ]
    },
    {
     "data": {
      "image/png": "[encoded data removed]",
      "text/plain": [
       "<Figure size 432x288 with 1 Axes>"
      ]
     },
     "metadata": {},
     "output_type": "display_data"
    }
   ],
   "source": [
    "print(\"image.shape\", image.shape)\n",
    "weight=tf.constant([[[[1.]],[[1.]]],\n",
    "                    [[[1.]],[[1.]]]])\n",
    "print(\"weight.shape\", weight.shape)\n",
    "conv2d=tf.nn.conv2d(image,weight,strides=[1,1,1,1],padding='VALID')\n",
    "#hmm why does it set strides to 1 1 1 1 ??? what does it mean?\n",
    "conv2d_img=conv2d.eval()\n",
    "weight2=tf.constant([[[[0.0625]],[[0.1875]],[[0.1875]],[[0.0625]]],\n",
    "                    [[[0.1875]],[[0.5625]],[[0.5625]],[[0.1875]]],\n",
    "                    [[[0.1875]],[[0.5625]],[[0.5625]],[[0.0625]]],\n",
    "                    [[[0.0625]],[[0.1875]],[[0.1875]],[[0.0625]]]])\n",
    "#weight2=tf.constant([[[[1.0]],[[1.0]],[[1.0]],[[1.0]]],\n",
    "#                    [[[1.0]],[[1.0]],[[1.0]],[[1.0]]],\n",
    "#                    [[[1.0]],[[1.0]],[[1.0]],[[1.0]]],\n",
    "#                    [[[1.0]],[[1.0]],[[1.0]],[[1.0]]]])\n",
    "print(\"conv2d_img.shape\", conv2d_img.shape)\n",
    "k=5\n",
    "s=2\n",
    "deconv2d=tf.nn.conv2d_transpose(image,weight2,[1,k,k,1],strides=[1,s,s,1],padding='SAME')\n",
    "#deconv3d=tf.nn.conv2d_transpose(conv2d,weight2,[1,k,k,1],strides=[1,s,s,1],padding='SAME')\n",
    "\n",
    "#this is show what is result.\n",
    "conv2d_img = np.swapaxes(image, 0, 3)\n",
    "for i, one_img in enumerate(conv2d_img):\n",
    "    print(one_img.reshape(3,3))\n",
    "    plt.subplot(1,2,i+1), plt.imshow(one_img.reshape(3,3), cmap='gray')"
   ]
  },
  {
   "cell_type": "code",
   "execution_count": 89,
   "metadata": {
    "scrolled": false
   },
   "outputs": [
    {
     "name": "stdout",
     "output_type": "stream",
     "text": [
      "[[0.5625 0.9375 1.3125 1.6875 2.0625]\n",
      " [1.3125 2.     2.375  3.     3.25  ]\n",
      " [2.4375 3.5    4.     4.5    5.    ]\n",
      " [3.5625 5.     5.     6.     5.875 ]\n",
      " [4.6875 6.5    7.     7.5    8.    ]]\n",
      "[[0.5625 0.9375 1.3125 1.6875 2.0625]\n",
      " [1.3125 2.     2.375  3.     3.25  ]\n",
      " [2.4375 3.5    4.     4.5    5.    ]\n",
      " [3.5625 5.     5.     6.     5.875 ]\n",
      " [4.6875 6.5    7.     7.5    8.    ]]\n"
     ]
    },
    {
     "data": {
      "image/png": "[encoded data removed]",
      "text/plain": [
       "<Figure size 432x288 with 1 Axes>"
      ]
     },
     "metadata": {},
     "output_type": "display_data"
    }
   ],
   "source": [
    "a=deconv2d.eval()\n",
    "print(a.reshape([k,k]))\n",
    "conv2d_img = np.swapaxes(a, 0, 3)\n",
    "for i, one_img in enumerate(conv2d_img):\n",
    "    print(one_img.reshape(k,k))\n",
    "    plt.subplot(1,2,i+1), plt.imshow(one_img.reshape(k,k), cmap='gray')"
   ]
  },
  {
   "cell_type": "markdown",
   "metadata": {},
   "source": [
    "for x in range(width):\n",
    "            for y in range(height):\n",
    "                value = (1 - abs(x / f - c)) * (1 - abs(y / f - c))\n",
    "                bilinear[x, y] = value"
   ]
  },
  {
   "cell_type": "code",
   "execution_count": 150,
   "metadata": {},
   "outputs": [],
   "source": [
    "width=4; height=4;      f = ceil(width/2.0);        c = (2 * f - 1 - f % 2) / (2.0 * f); bilinear = np.zeros([width, height])"
   ]
  },
  {
   "cell_type": "code",
   "execution_count": 182,
   "metadata": {},
   "outputs": [
    {
     "name": "stdout",
     "output_type": "stream",
     "text": [
      "[[12. 12. 12.  0. 16. 16. 16.]\n",
      " [12. 24. 12.  0. 16. 32. 16.]\n",
      " [12. 12. 12.  0. 16. 16. 16.]\n",
      " [ 0.  0.  0.  0.  0.  0.  0.]\n",
      " [24. 24. 24.  0. 28. 28. 28.]\n",
      " [24. 48. 24.  0. 28. 56. 28.]\n",
      " [24. 24. 24.  0. 28. 28. 28.]]\n"
     ]
    }
   ],
   "source": [
    "w=tf.constant(np.ones([3,3]).reshape(3,3,1,1))\n",
    "weight3=tf.constant([[[[1.0]],[[1.0]],[[1.0]]],\n",
    "                    [[[1.0]],[[2.0]],[[1.0]]],\n",
    "                    [[[1.0]],[[1.0]],[[1.0]]]])\n",
    "k=7\n",
    "s=4\n",
    "deconv2d=tf.nn.conv2d_transpose(conv2d_img,weight3,[1,k,k,1],strides=[1,s,s,1],padding='SAME')\n",
    "a=deconv2d.eval()\n",
    "print(a.reshape([k,k]))"
   ]
  },
  {
   "cell_type": "code",
   "execution_count": 168,
   "metadata": {},
   "outputs": [
    {
     "data": {
      "text/plain": [
       "array([[12., 16.],\n",
       "       [24., 28.]], dtype=float32)"
      ]
     },
     "execution_count": 168,
     "metadata": {},
     "output_type": "execute_result"
    }
   ],
   "source": [
    "conv2d_img.reshape(2,2)"
   ]
  },
  {
   "cell_type": "code",
   "execution_count": 110,
   "metadata": {},
   "outputs": [
    {
     "data": {
      "text/plain": [
       "TensorShape([Dimension(4), Dimension(4), Dimension(1), Dimension(1)])"
      ]
     },
     "execution_count": 110,
     "metadata": {},
     "output_type": "execute_result"
    }
   ],
   "source": [
    "weight2.shape"
   ]
  },
  {
   "cell_type": "code",
   "execution_count": 155,
   "metadata": {},
   "outputs": [
    {
     "data": {
      "text/plain": [
       "<tf.Tensor 'Const_100:0' shape=(4, 4) dtype=float64>"
      ]
     },
     "execution_count": 155,
     "metadata": {},
     "output_type": "execute_result"
    }
   ],
   "source": [
    "weight2"
   ]
  },
  {
   "cell_type": "code",
   "execution_count": 167,
   "metadata": {},
   "outputs": [],
   "source": [
    "b=tf.expand_dims(bilinear,2);"
   ]
  },
  {
   "cell_type": "code",
   "execution_count": 169,
   "metadata": {},
   "outputs": [],
   "source": [
    "b=tf.expand_dims(b,0);"
   ]
  },
  {
   "cell_type": "code",
   "execution_count": 170,
   "metadata": {},
   "outputs": [
    {
     "data": {
      "text/plain": [
       "array([[[[0.0625],\n",
       "         [0.1875],\n",
       "         [0.1875],\n",
       "         [0.0625]],\n",
       "\n",
       "        [[0.1875],\n",
       "         [0.5625],\n",
       "         [0.5625],\n",
       "         [0.1875]],\n",
       "\n",
       "        [[0.1875],\n",
       "         [0.5625],\n",
       "         [0.5625],\n",
       "         [0.1875]],\n",
       "\n",
       "        [[0.0625],\n",
       "         [0.1875],\n",
       "         [0.1875],\n",
       "         [0.0625]]]])"
      ]
     },
     "execution_count": 170,
     "metadata": {},
     "output_type": "execute_result"
    }
   ],
   "source": [
    "b.eval()"
   ]
  },
  {
   "cell_type": "code",
   "execution_count": 174,
   "metadata": {},
   "outputs": [
    {
     "ename": "AttributeError",
     "evalue": "'Tensor' object has no attribute 'shaep'",
     "output_type": "error",
     "traceback": [
      "\u001b[0;31m---------------------------------------------------------------------------\u001b[0m",
      "\u001b[0;31mAttributeError\u001b[0m                            Traceback (most recent call last)",
      "\u001b[0;32m<ipython-input-174-0c3e256ed9da>\u001b[0m in \u001b[0;36m<module>\u001b[0;34m()\u001b[0m\n\u001b[0;32m----> 1\u001b[0;31m \u001b[0mb\u001b[0m\u001b[0;34m.\u001b[0m\u001b[0mshaep\u001b[0m\u001b[0;34m\u001b[0m\u001b[0m\n\u001b[0m",
      "\u001b[0;31mAttributeError\u001b[0m: 'Tensor' object has no attribute 'shaep'"
     ]
    }
   ],
   "source": [
    "b.shaep"
   ]
  },
  {
   "cell_type": "code",
   "execution_count": 175,
   "metadata": {},
   "outputs": [
    {
     "data": {
      "text/plain": [
       "TensorShape([Dimension(1), Dimension(4), Dimension(4), Dimension(1)])"
      ]
     },
     "execution_count": 175,
     "metadata": {},
     "output_type": "execute_result"
    }
   ],
   "source": [
    "b.shape"
   ]
  },
  {
   "cell_type": "code",
   "execution_count": null,
   "metadata": {},
   "outputs": [],
   "source": []
  }
 ],
 "metadata": {
  "kernelspec": {
   "display_name": "tensorflow1-1_pyth3",
   "language": "python",
   "name": "tensorflow1-1_pyth3"
  },
  "language_info": {
   "codemirror_mode": {
    "name": "ipython",
    "version": 3
   },
   "file_extension": ".py",
   "mimetype": "text/x-python",
   "name": "python",
   "nbconvert_exporter": "python",
   "pygments_lexer": "ipython3",
   "version": "3.5.2"
  }
 },
 "nbformat": 4,
 "nbformat_minor": 2
}
