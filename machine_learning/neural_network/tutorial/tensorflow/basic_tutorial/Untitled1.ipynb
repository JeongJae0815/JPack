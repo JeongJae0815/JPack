{
 "cells": [
  {
   "cell_type": "code",
   "execution_count": null,
   "metadata": {
    "collapsed": true
   },
   "outputs": [],
   "source": [
    "import tensorflow as tf\n",
    "import numpy as np\n",
    "from skimage import data, io,filters\n",
    "\n",
    "#set train data path\n",
    "train_list_path='data/images_path/train.txt'\n",
    "train_data_path='data/images/train/%s'\n",
    "\n",
    "#load train data path\n",
    "with open(train_list_path) as f:\n",
    "    train_data_list = f.readlines()    \n",
    "#load train data&label with path\n",
    "\n",
    "\n",
    "for i,tdl in enumerate(train_data_list):\n",
    "    if i==0:\n",
    "        train_data=io.imread(train_data_path%tdl.split()[0]).reshape([-1,256*256*3])\n",
    "        train_label=np.array([int(tdl.split()[1])])\n",
    "    else:\n",
    "        tmp=io.imread(train_data_path%tdl.split()[0]).reshape([-1,256*256*3])\n",
    "        train_data=tf.concat([train_data,tmp],0)\n",
    "        \n",
    "        tmp=np.array([int(tdl.split()[1])])\n",
    "        train_label=tf.concat([train_label,tmp],0)\n",
    "\n",
    "nb_classes = 13\n",
    "numb_of_neurons=98304\n",
    "learning_rate=0.001\n",
    "#convert train_label into one hot encoding\n",
    "train_label=tf.one_hot(train_label,nb_classes,axis=1)"
   ]
  },
  {
   "cell_type": "code",
   "execution_count": null,
   "metadata": {
    "collapsed": true
   },
   "outputs": [],
   "source": [
    "import tensorflow as tf\n",
    "import numpy as np\n",
    "from skimage import data, io, filters\n",
    "from mlxtend.preprocessing import one_hot\n",
    "# set train data path\n",
    "train_list_path = 'data/images_path/train.txt'\n",
    "train_data_path = 'data/images/train/%s'\n",
    "\n",
    "\n",
    "class DataRead:\n",
    "    def __init__(self, data_list_path, data_path, batch_size, nb_classes):\n",
    "        self.data_list_path = data_list_path\n",
    "        self.data_path = data_path\n",
    "        self.batch_num = 0\n",
    "        self.batch_size = batch_size\n",
    "        self.nb_classes = nb_classes\n",
    "\n",
    "        with open(self.data_list_path) as f:\n",
    "            self.data_list = f.readlines()\n",
    "        self.total_batch = int(np.floor(np.size(self.data_list) / self.batch_size))\n",
    "        \n",
    "        self.label_list=[int(d.split()[1]) for d in self.data_list]\n",
    "        self.data_list=[train_data_path%d.split()[0] for d in self.data_list]\n",
    "        \n",
    "    def Next_Batch(self):\n",
    "        batch_num = self.batch_num\n",
    "        batch_size = self.batch_size\n",
    "        \n",
    "        data_coll=io.ImageCollection(\n",
    "            self.data_list[batch_num * batch_size:(batch_num + 1) * batch_size])\n",
    "        data=np.array([d for d in data_coll])\n",
    "        \n",
    "        label_coll=self.label_list[batch_num * batch_size:(batch_num + 1) * batch_size]\n",
    "        label = one_hot(label_coll, self.nb_classes)\n",
    "        \n",
    "        self.batch_num = self.batch_num + 1\n",
    "        if self.batch_num > self.total_batch:\n",
    "            self.batch_num = 0\n",
    "        return (data/255.0, label)\n",
    "    def All_Data(self):\n",
    "        data_coll=io.ImageCollection(\n",
    "            self.data_list)\n",
    "        data=np.array([d for d in data_coll])\n",
    "        \n",
    "        label_coll=self.label_list\n",
    "        label = one_hot(label_coll, self.nb_classes)\n",
    "        \n",
    "        return (data/255.0, label)\n",
    "        "
   ]
  },
  {
   "cell_type": "code",
   "execution_count": null,
   "metadata": {
    "collapsed": true
   },
   "outputs": [],
   "source": [
    "with open(train_list_path) as f:\n",
    "            data_list = f.readlines()"
   ]
  },
  {
   "cell_type": "code",
   "execution_count": null,
   "metadata": {
    "collapsed": true
   },
   "outputs": [],
   "source": [
    "\n",
    "for i, tdl in enumerate(data_list):\n",
    "            if batch_num * batch_size <= i < (batch_num + 1) * batch_size:\n",
    "                if first:\n",
    "                    data = io.imread(train_data_path % tdl.split()[0])\n",
    "                    first = 0\n",
    "                else:\n",
    "                    tmp = io.imread(train_data_path % tdl.split()[0])\n",
    "                    data = tf.concat([data, tmp], 0)"
   ]
  },
  {
   "cell_type": "code",
   "execution_count": null,
   "metadata": {
    "collapsed": true
   },
   "outputs": [],
   "source": [
    "a=DataRead(train_list_path, train_data_path, batch_size=100, nb_classes=13)"
   ]
  },
  {
   "cell_type": "code",
   "execution_count": null,
   "metadata": {
    "collapsed": true
   },
   "outputs": [],
   "source": [
    "c,d=a.Next_Batch()"
   ]
  },
  {
   "cell_type": "code",
   "execution_count": null,
   "metadata": {},
   "outputs": [],
   "source": [
    "np.arange(np.size(data_list))"
   ]
  },
  {
   "cell_type": "code",
   "execution_count": null,
   "metadata": {},
   "outputs": [],
   "source": [
    "c.shape"
   ]
  },
  {
   "cell_type": "code",
   "execution_count": null,
   "metadata": {
    "collapsed": true
   },
   "outputs": [],
   "source": [
    "a.batch_num"
   ]
  },
  {
   "cell_type": "code",
   "execution_count": null,
   "metadata": {},
   "outputs": [],
   "source": [
    "train_data_path='data/images/train/%s'"
   ]
  },
  {
   "cell_type": "code",
   "execution_count": null,
   "metadata": {
    "collapsed": true
   },
   "outputs": [],
   "source": [
    "c=b[1:10,0]\n",
    "f='data/images/train/'"
   ]
  },
  {
   "cell_type": "code",
   "execution_count": null,
   "metadata": {
    "collapsed": true
   },
   "outputs": [],
   "source": [
    "a=[train_data_path%d.split()[0] for d in data_list]\n",
    "b=[int(d.split()[1]) for d in data_list]"
   ]
  },
  {
   "cell_type": "code",
   "execution_count": null,
   "metadata": {
    "collapsed": true
   },
   "outputs": [],
   "source": [
    "bb=b[695:711]"
   ]
  },
  {
   "cell_type": "code",
   "execution_count": null,
   "metadata": {
    "collapsed": true
   },
   "outputs": [],
   "source": [
    "coll = io.ImageCollection(c)"
   ]
  },
  {
   "cell_type": "code",
   "execution_count": null,
   "metadata": {
    "collapsed": true
   },
   "outputs": [],
   "source": [
    "from mlxtend.preprocessing import one_hot"
   ]
  },
  {
   "cell_type": "code",
   "execution_count": null,
   "metadata": {
    "collapsed": true
   },
   "outputs": [],
   "source": [
    "f=coll[:].ipynb_c"
   ]
  },
  {
   "cell_type": "code",
   "execution_count": null,
   "metadata": {
    "collapsed": true
   },
   "outputs": [],
   "source": [
    "g=f.concatenate"
   ]
  },
  {
   "cell_type": "code",
   "execution_count": null,
   "metadata": {
    "collapsed": true
   },
   "outputs": [],
   "source": [
    "h=np.array([i for i in f])"
   ]
  },
  {
   "cell_type": "code",
   "execution_count": null,
   "metadata": {},
   "outputs": [],
   "source": [
    "h.shape"
   ]
  },
  {
   "cell_type": "code",
   "execution_count": null,
   "metadata": {
    "collapsed": true
   },
   "outputs": [],
   "source": [
    "b=[1,2,3,4,5]"
   ]
  },
  {
   "cell_type": "code",
   "execution_count": null,
   "metadata": {},
   "outputs": [],
   "source": [
    "b[0:666]"
   ]
  },
  {
   "cell_type": "code",
   "execution_count": null,
   "metadata": {
    "collapsed": true
   },
   "outputs": [],
   "source": [
    "a=one_hot(bb,13)"
   ]
  },
  {
   "cell_type": "code",
   "execution_count": null,
   "metadata": {},
   "outputs": [],
   "source": [
    "a.shape"
   ]
  },
  {
   "cell_type": "code",
   "execution_count": null,
   "metadata": {},
   "outputs": [],
   "source": [
    "import tensorflow as tf\n",
    "import numpy as np\n",
    "from skimage import data, io, filters\n",
    "from mlxtend.preprocessing import one_hot\n",
    "import random\n",
    "\n",
    "# set train data path\n",
    "train_list_path = 'data/images_path/train.txt'\n",
    "train_data_path = 'data/images/train/%s'\n",
    "\n",
    "\n",
    "class DataRead:\n",
    "    def __init__(self, data_list_path, data_path, batch_size, nb_classes):\n",
    "        self.data_list_path = data_list_path\n",
    "        self.data_path = data_path\n",
    "        self.batch_num = 0\n",
    "        self.batch_size = batch_size\n",
    "        self.nb_classes = nb_classes\n",
    "\n",
    "        with open(self.data_list_path) as f:\n",
    "            self.data_list = f.readlines()\n",
    "        self.total_batch = int(np.floor(np.size(self.data_list) / self.batch_size))\n",
    "\n",
    "        self.label_list = [int(d.split()[1]) for d in self.data_list]\n",
    "        self.data_list = [train_data_path % d.split()[0] for d in self.data_list]\n",
    "\n",
    "        # shuffle data\n",
    "        ind_shuff = np.arange(np.size(self.data_list))\n",
    "        random.shuffle(ind_shuff)\n",
    "        self.data_list = [self.data_list[i] for i in ind_shuff]\n",
    "        self.label_list = [self.label_list[i] for i in ind_shuff]\n",
    "\n",
    "        ind_tmp = int(np.size(self.data_list) / 10/)\n",
    "        self.label_list = self.label_list[ind_tmp:]\n",
    "        self.data_list = self.data_list[ind_tmp:]\n",
    "\n",
    "        self.test_label_list = self.label_list[:ind_tmp]\n",
    "        self.test_data_list = self.data_list[:ind_tmp]\n",
    "\n",
    "    def Next_Batch(self):\n",
    "        batch_num = int(self.batch_num)\n",
    "        batch_size = int(self.batch_size)\n",
    "\n",
    "        data_coll = io.ImageCollection(\n",
    "            self.data_list[batch_num * batch_size:(batch_num + 1) * batch_size])\n",
    "        data = np.array([d for d in data_coll])\n",
    "\n",
    "        label_coll = self.label_list[batch_num * batch_size:(batch_num + 1) * batch_size]\n",
    "        label = one_hot(label_coll, self.nb_classes)\n",
    "\n",
    "        self.batch_num = self.batch_num + 1\n",
    "        if self.batch_num > self.total_batch:\n",
    "            self.batch_num = 0\n",
    "        return (data / 255.0, label)\n",
    "\n",
    "    def All_Data(self):\n",
    "        data_coll = io.ImageCollection(\n",
    "            self.data_list)\n",
    "        data = np.array([d for d in data_coll])\n",
    "\n",
    "        label_coll = self.label_list\n",
    "        label = one_hot(label_coll, self.nb_classes)\n",
    "\n",
    "        return (data / 255.0, label)\n",
    "\n",
    "    def Test_Data(self):\n",
    "        data_coll = io.ImageCollection(\n",
    "            self.test_data_list)\n",
    "        data = np.array([d for d in data_coll])\n",
    "\n",
    "        label_coll = self.test_label_list\n",
    "        label = one_hot(label_coll, self.nb_classes)\n",
    "\n",
    "        return (data / 255.0, label)\n",
    "\n",
    "\n",
    "nb_classes = 13\n",
    "learning_rate = 0.001\n",
    "training_epochs = 45\n",
    "batch_size = 256\n",
    "train = DataRead(train_list_path, train_data_path, batch_size=batch_size, nb_classes=13)\n",
    "test_x,text_y=train.Test_Data()\n",
    "\n",
    "keep_prob = tf.placeholder(tf.float32)\n",
    "\n",
    "X = tf.placeholder(tf.float32, [None, 256, 256, 3])\n",
    "X_img = X\n",
    "Y = tf.placeholder(tf.float32, [None, nb_classes])\n",
    "\n",
    "W1 = tf.Variable(tf.random_normal([11, 11, 3, 96], stddev=0.001))\n",
    "W2 = tf.Variable(tf.random_normal([5, 5, 96, 256], stddev=0.001))\n",
    "W3 = tf.Variable(tf.random_normal([3, 3, 256, 384], stddev=0.001))\n",
    "W4 = tf.Variable(tf.random_normal([3, 3, 384, 384], stddev=0.001))\n",
    "W5 = tf.Variable(tf.random_normal([3, 3, 384, 256], stddev=0.001))\n",
    "W6 = tf.get_variable(\"W6\", shape=[8 * 8 * 256, 4096], initializer=tf.contrib.layers.xavier_initializer())\n",
    "b6 = tf.Variable(tf.random_normal([4096]))\n",
    "W7 = tf.get_variable(\"W7\", shape=[4096, 1000], initializer=tf.contrib.layers.xavier_initializer())\n",
    "b7 = tf.Variable(tf.random_normal([1000]))\n",
    "W8 = tf.get_variable(\"W8\", shape=[1000, 100], initializer=tf.contrib.layers.xavier_initializer())\n",
    "b8 = tf.Variable(tf.random_normal([100]))\n",
    "W9 = tf.get_variable(\"W9\", shape=[100, nb_classes], initializer=tf.contrib.layers.xavier_initializer())\n",
    "b9 = tf.Variable(tf.random_normal([nb_classes]))\n",
    "\n",
    "with tf.name_scope(\"layer1\") as scope:\n",
    "    L1 = tf.nn.conv2d(X_img, W1, strides=[1, 4, 4, 1], padding='SAME')\n",
    "    L1 = tf.nn.relu(L1)\n",
    "    L1 = tf.nn.max_pool(L1, ksize=[1, 3, 3, 1], strides=[1, 2, 2, 1], padding='SAME')\n",
    "    L1 = tf.nn.dropout(L1, keep_prob=keep_prob)\n",
    "\n",
    "with tf.name_scope(\"layer2\") as scope:\n",
    "    L2 = tf.nn.conv2d(L1, W2, strides=[1, 1, 1, 1], padding='SAME')\n",
    "    L2 = tf.nn.relu(L2)\n",
    "    L2 = tf.nn.max_pool(L2, ksize=[1, 3, 3, 1], strides=[1, 2, 2, 1], padding='SAME')\n",
    "    L2 = tf.nn.dropout(L2, keep_prob=keep_prob)\n",
    "\n",
    "with tf.name_scope(\"layer3\") as scope:\n",
    "    L3 = tf.nn.conv2d(L2, W3, strides=[1, 1, 1, 1], padding='SAME')\n",
    "    L3 = tf.nn.relu(L3)\n",
    "    L3 = tf.nn.dropout(L3, keep_prob=keep_prob)\n",
    "\n",
    "with tf.name_scope(\"layer4\") as scope:\n",
    "    L4 = tf.nn.conv2d(L3, W4, strides=[1, 1, 1, 1], padding='SAME')\n",
    "    L4 = tf.nn.relu(L4)\n",
    "    L4 = tf.nn.dropout(L4, keep_prob=keep_prob)\n",
    "\n",
    "with tf.name_scope(\"layer5\") as scope:\n",
    "    L5 = tf.nn.conv2d(L4, W5, strides=[1, 1, 1, 1], padding='SAME')\n",
    "    L5 = tf.nn.relu(L5)\n",
    "    L5 = tf.nn.max_pool(L5, ksize=[1, 3, 3, 1], strides=[1, 2, 2, 1], padding='SAME')\n",
    "    L5 = tf.reshape(L5, [-1, 8 * 8 * 256])\n",
    "    L5 = tf.nn.dropout(L5, keep_prob=keep_prob)\n",
    "\n",
    "with tf.name_scope(\"layer6\") as scope:\n",
    "    L6 = tf.nn.relu(tf.matmul(L5, W6) + b6)\n",
    "    L6 = tf.nn.dropout(L6, keep_prob=keep_prob)\n",
    "\n",
    "with tf.name_scope(\"layer7\") as scope:\n",
    "    L7 = tf.nn.relu(tf.matmul(L6, W7) + b7)\n",
    "    L7 = tf.nn.dropout(L7, keep_prob=keep_prob)\n",
    "\n",
    "with tf.name_scope(\"layer8\") as scope:\n",
    "    L8 = tf.nn.relu(tf.matmul(L7, W8) + b8)\n",
    "    L8 = tf.nn.dropout(L8, keep_prob=keep_prob)\n",
    "\n",
    "with tf.name_scope(\"layer9\") as scope:\n",
    "    logits = tf.matmul(L8, W9) + b9\n",
    "\n",
    "with tf.name_scope(\"cost\") as scope:\n",
    "    cost = tf.reduce_mean(tf.nn.softmax_cross_entropy_with_logits(logits=logits, labels=Y))\n",
    "    cost_summ = tf.summary.scalar(\"cost\", cost)\n",
    "\n",
    "with tf.name_scope(\"train\") as scope:\n",
    "    optimizer = tf.train.AdamOptimizer(learning_rate=learning_rate).minimize(cost)\n",
    "\n",
    "with tf.name_scope(\"prediction\") as scope:\n",
    "    correct_prediction = tf.equal(tf.argmax(logits, 1), tf.argmax(Y, 1))\n",
    "    accuracy = tf.reduce_mean(tf.cast(correct_prediction, tf.float32))\n",
    "    accuracy_summ = tf.summary.scalar(\"accuracy\", accuracy)\n",
    "\n",
    "# train my model\n",
    "with tf.Session() as sess:\n",
    "    print('Learning started. It takes sometime.')\n",
    "    merged_summary = tf.summary.merge_all()\n",
    "    sess.run(tf.global_variables_initializer())\n",
    "    writer = tf.summary.FileWriter('./logs/KIST/learning_rate_0_001')\n",
    "    writer.add_graph(sess.graph)\n",
    "    step = 0\n",
    "    for epoch in range(training_epochs):\n",
    "        avg_cost = 0\n",
    "        avg_a = 0\n",
    "        total_batch = train.total_batch\n",
    "\n",
    "        for i in range(total_batch):\n",
    "            batch_xs, batch_ys = train.Next_Batch()\n",
    "            feed_dict = {X: batch_xs, Y: batch_ys, keep_prob: 0.7}\n",
    "            c, _,s = sess.run([cost, optimizer,merged_summary], feed_dict=feed_dict)\n",
    "            a=sess.run(accuracy, feed_dict={X:test_x, Y:text_y, keep_prob: 1})\n",
    "            avg_cost += c / total_batch\n",
    "            avg_a += a / total_batch\n",
    "\n",
    "            writer.add_summary(s, global_step=step)\n",
    "            step += 1\n",
    "\n",
    "        print('Epoch:', '%04d' % (epoch + 1), 'cost =', '{:.9f}'.format(avg_cost), 'accuracy =', '{:.9f}'.format(avg_a))\n",
    "\n",
    "    val_list_path = 'data/images_path/val.txt'\n",
    "    val_data_path = 'data/images/val/%s'\n",
    "    val = DataRead(val_list_path, val_data_path, batch_size=100, nb_classes=13)\n",
    "\n",
    "    val_x, val_y = val.Next_Batch()\n",
    "    print('Accuracy:', sess.run(accuracy, feed_dict={X: val_x, Y: val_y, keep_prob: 1}))\n"
   ]
  },
  {
   "cell_type": "code",
   "execution_count": 1,
   "metadata": {},
   "outputs": [
    {
     "name": "stdout",
     "output_type": "stream",
     "text": [
      "Learning started. It takes sometime.\n",
      "Epoch: 0001 cost = 2.866823452 accuracy = 0.208043981\n",
      "Epoch: 0002 cost = 1.823801659 accuracy = 0.423141439\n",
      "Epoch: 0003 cost = 1.502379576 accuracy = 0.477078301\n",
      "Epoch: 0004 cost = 1.464128318 accuracy = 0.481707931\n",
      "Epoch: 0005 cost = 1.335007120 accuracy = 0.505290106\n",
      "Epoch: 0006 cost = 1.350503370 accuracy = 0.503637866\n",
      "Epoch: 0007 cost = 1.324790760 accuracy = 0.503759477\n",
      "Epoch: 0008 cost = 1.238530879 accuracy = 0.520583819\n",
      "Epoch: 0009 cost = 1.120865062 accuracy = 0.573843431\n",
      "Epoch: 0010 cost = 1.013975106 accuracy = 0.606582125\n",
      "Epoch: 0011 cost = 0.860219377 accuracy = 0.666991662\n",
      "Epoch: 0012 cost = 0.799016599 accuracy = 0.689397560\n",
      "Epoch: 0013 cost = 0.709085873 accuracy = 0.733370657\n",
      "Epoch: 0014 cost = 0.645612955 accuracy = 0.766295961\n",
      "Epoch: 0015 cost = 0.608599535 accuracy = 0.782560472\n",
      "Epoch: 0016 cost = 0.552817200 accuracy = 0.802049787\n",
      "Epoch: 0017 cost = 0.520392292 accuracy = 0.821581037\n",
      "Epoch: 0018 cost = 0.537029433 accuracy = 0.816041417\n",
      "Epoch: 0019 cost = 0.450476760 accuracy = 0.849358815\n",
      "Epoch: 0020 cost = 0.410336826 accuracy = 0.862524324\n",
      "Epoch: 0021 cost = 0.414240174 accuracy = 0.863906083\n",
      "Epoch: 0022 cost = 0.371875254 accuracy = 0.877589491\n",
      "Epoch: 0023 cost = 0.351130493 accuracy = 0.885318120\n",
      "Epoch: 0024 cost = 0.329535748 accuracy = 0.892323370\n",
      "Epoch: 0025 cost = 0.316560008 accuracy = 0.894843667\n",
      "Epoch: 0026 cost = 0.298685742 accuracy = 0.903710833\n",
      "Epoch: 0027 cost = 0.262858529 accuracy = 0.916152963\n",
      "Epoch: 0028 cost = 0.222867810 accuracy = 0.928077194\n",
      "Epoch: 0029 cost = 0.232607855 accuracy = 0.924189815\n",
      "Epoch: 0030 cost = 0.227085162 accuracy = 0.927087528\n",
      "Epoch: 0031 cost = 0.188845966 accuracy = 0.937481130\n",
      "Epoch: 0032 cost = 0.198996485 accuracy = 0.937915157\n",
      "Epoch: 0033 cost = 0.192717294 accuracy = 0.941429315\n",
      "Epoch: 0034 cost = 0.180911429 accuracy = 0.940869481\n",
      "Epoch: 0035 cost = 0.187202060 accuracy = 0.940127231\n",
      "Epoch: 0036 cost = 0.176776991 accuracy = 0.943846870\n",
      "Epoch: 0037 cost = 0.187900431 accuracy = 0.938867083\n",
      "Epoch: 0038 cost = 0.154434649 accuracy = 0.950585833\n",
      "Epoch: 0039 cost = 0.136661444 accuracy = 0.955999648\n",
      "Epoch: 0040 cost = 0.121110783 accuracy = 0.961847491\n",
      "Epoch: 0041 cost = 0.149380454 accuracy = 0.951864852\n",
      "Epoch: 0042 cost = 0.143554724 accuracy = 0.955131593\n",
      "Epoch: 0043 cost = 0.122574037 accuracy = 0.961455398\n",
      "Epoch: 0044 cost = 0.127862473 accuracy = 0.959243324\n",
      "Epoch: 0045 cost = 0.113679058 accuracy = 0.960937500\n",
      "Accuracy: 0.96\n"
     ]
    }
   ],
   "source": [
    "import tensorflow as tf\n",
    "import numpy as np\n",
    "from skimage import data, io, filters\n",
    "from mlxtend.preprocessing import one_hot\n",
    "import random\n",
    "\n",
    "# set train data path\n",
    "train_list_path = 'data/images_path/train.txt'\n",
    "train_data_path = 'data/images/train/%s'\n",
    "\n",
    "\n",
    "class DataRead:\n",
    "    def __init__(self, data_list_path, data_path, batch_size, nb_classes):\n",
    "        self.data_list_path = data_list_path\n",
    "        self.data_path = data_path\n",
    "        self.batch_num = 0\n",
    "        self.batch_size = batch_size\n",
    "        self.nb_classes = nb_classes\n",
    "\n",
    "        with open(self.data_list_path) as f:\n",
    "            self.data_list = f.readlines()\n",
    "        self.total_batch = int(np.floor(np.size(self.data_list) / self.batch_size))\n",
    "\n",
    "        self.label_list = [int(d.split()[1]) for d in self.data_list]\n",
    "        self.data_list = [train_data_path % d.split()[0] for d in self.data_list]\n",
    "\n",
    "        # shuffle data\n",
    "        ind_shuff = np.arange(np.size(self.data_list))\n",
    "        random.shuffle(ind_shuff)\n",
    "        self.data_list = [self.data_list[i] for i in ind_shuff]\n",
    "        self.label_list = [self.label_list[i] for i in ind_shuff]\n",
    "\n",
    "    def Next_Batch(self):\n",
    "        batch_num = int(self.batch_num)\n",
    "        batch_size = int(self.batch_size)\n",
    "\n",
    "        data_coll = io.ImageCollection(\n",
    "            self.data_list[batch_num * batch_size:(batch_num + 1) * batch_size])\n",
    "        data = np.array([d for d in data_coll])\n",
    "\n",
    "        label_coll = self.label_list[batch_num * batch_size:(batch_num + 1) * batch_size]\n",
    "        label = one_hot(label_coll, self.nb_classes)\n",
    "\n",
    "        self.batch_num = self.batch_num + 1\n",
    "        if self.batch_num > self.total_batch:\n",
    "            self.batch_num = 0\n",
    "        return (data / 255.0, label)\n",
    "\n",
    "    def Next_batch_not_one_hot(self):\n",
    "        batch_num = int(self.batch_num)\n",
    "        batch_size = int(self.batch_size)\n",
    "\n",
    "        data_coll = io.ImageCollection(\n",
    "            self.data_list[batch_num * batch_size:(batch_num + 1) * batch_size])\n",
    "        data = np.array([d for d in data_coll])\n",
    "\n",
    "        label_coll = self.label_list[batch_num * batch_size:(batch_num + 1) * batch_size]\n",
    "        label = label_coll\n",
    "\n",
    "        self.batch_num = self.batch_num + 1\n",
    "        if self.batch_num > self.total_batch:\n",
    "            self.batch_num = 0\n",
    "        return (data / 255.0, label)\n",
    "\n",
    "    def All_Data(self):\n",
    "        data_coll = io.ImageCollection(\n",
    "            self.data_list)\n",
    "        data = np.array([d for d in data_coll])\n",
    "\n",
    "        label_coll = self.label_list\n",
    "        label = one_hot(label_coll, self.nb_classes)\n",
    "\n",
    "        return (data / 255.0, label)\n",
    "\n",
    "    def All_Data_not_one_hot(self):\n",
    "        data_coll = io.ImageCollection(\n",
    "            self.data_list)\n",
    "        data = np.array([d for d in data_coll])\n",
    "\n",
    "        label_coll = self.label_list\n",
    "        label = label_coll\n",
    "\n",
    "        return (data / 255.0, label)\n",
    "\n",
    "nb_classes = 13\n",
    "learning_rate = 0.001\n",
    "training_epochs = 45\n",
    "batch_size = 256\n",
    "train = DataRead(train_list_path, train_data_path, batch_size=batch_size, nb_classes=13)\n",
    "\n",
    "keep_prob = tf.placeholder(tf.float32)\n",
    "\n",
    "X = tf.placeholder(tf.float32, [None, 256, 256, 3])\n",
    "X_img = X\n",
    "Y = tf.placeholder(tf.float32, [None, nb_classes])\n",
    "\n",
    "W1 = tf.Variable(tf.random_normal([11, 11, 3, 96], stddev=0.001))\n",
    "W2 = tf.Variable(tf.random_normal([5, 5, 96, 256], stddev=0.001))\n",
    "W3 = tf.Variable(tf.random_normal([3, 3, 256, 384], stddev=0.001))\n",
    "W4 = tf.Variable(tf.random_normal([3, 3, 384, 384], stddev=0.001))\n",
    "W5 = tf.Variable(tf.random_normal([3, 3, 384, 256], stddev=0.001))\n",
    "W6 = tf.get_variable(\"W6\", shape=[8 * 8 * 256, 4096], initializer=tf.contrib.layers.xavier_initializer())\n",
    "b6 = tf.Variable(tf.random_normal([4096]))\n",
    "W7 = tf.get_variable(\"W7\", shape=[4096, 1000], initializer=tf.contrib.layers.xavier_initializer())\n",
    "b7 = tf.Variable(tf.random_normal([1000]))\n",
    "W8 = tf.get_variable(\"W8\", shape=[1000, 100], initializer=tf.contrib.layers.xavier_initializer())\n",
    "b8 = tf.Variable(tf.random_normal([100]))\n",
    "W9 = tf.get_variable(\"W9\", shape=[100, nb_classes], initializer=tf.contrib.layers.xavier_initializer())\n",
    "b9 = tf.Variable(tf.random_normal([nb_classes]))\n",
    "\n",
    "with tf.name_scope(\"layer1\") as scope:\n",
    "    L1 = tf.nn.conv2d(X_img, W1, strides=[1, 4, 4, 1], padding='SAME')\n",
    "    L1 = tf.nn.relu(L1)\n",
    "    L1 = tf.nn.max_pool(L1, ksize=[1, 3, 3, 1], strides=[1, 2, 2, 1], padding='SAME')\n",
    "    L1 = tf.nn.dropout(L1, keep_prob=keep_prob)\n",
    "\n",
    "with tf.name_scope(\"layer2\") as scope:\n",
    "    L2 = tf.nn.conv2d(L1, W2, strides=[1, 1, 1, 1], padding='SAME')\n",
    "    L2 = tf.nn.relu(L2)\n",
    "    L2 = tf.nn.max_pool(L2, ksize=[1, 3, 3, 1], strides=[1, 2, 2, 1], padding='SAME')\n",
    "    L2 = tf.nn.dropout(L2, keep_prob=keep_prob)\n",
    "\n",
    "with tf.name_scope(\"layer3\") as scope:\n",
    "    L3 = tf.nn.conv2d(L2, W3, strides=[1, 1, 1, 1], padding='SAME')\n",
    "    L3 = tf.nn.relu(L3)\n",
    "    L3 = tf.nn.dropout(L3, keep_prob=keep_prob)\n",
    "\n",
    "with tf.name_scope(\"layer4\") as scope:\n",
    "    L4 = tf.nn.conv2d(L3, W4, strides=[1, 1, 1, 1], padding='SAME')\n",
    "    L4 = tf.nn.relu(L4)\n",
    "    L4 = tf.nn.dropout(L4, keep_prob=keep_prob)\n",
    "\n",
    "with tf.name_scope(\"layer5\") as scope:\n",
    "    L5 = tf.nn.conv2d(L4, W5, strides=[1, 1, 1, 1], padding='SAME')\n",
    "    L5 = tf.nn.relu(L5)\n",
    "    L5 = tf.nn.max_pool(L5, ksize=[1, 3, 3, 1], strides=[1, 2, 2, 1], padding='SAME')\n",
    "    L5 = tf.reshape(L5, [-1, 8 * 8 * 256])\n",
    "    L5 = tf.nn.dropout(L5, keep_prob=keep_prob)\n",
    "\n",
    "with tf.name_scope(\"layer6\") as scope:\n",
    "    L6 = tf.nn.relu(tf.matmul(L5, W6) + b6)\n",
    "    L6 = tf.nn.dropout(L6, keep_prob=keep_prob)\n",
    "\n",
    "with tf.name_scope(\"layer7\") as scope:\n",
    "    L7 = tf.nn.relu(tf.matmul(L6, W7) + b7)\n",
    "    L7 = tf.nn.dropout(L7, keep_prob=keep_prob)\n",
    "\n",
    "with tf.name_scope(\"layer8\") as scope:\n",
    "    L8 = tf.nn.relu(tf.matmul(L7, W8) + b8)\n",
    "    L8 = tf.nn.dropout(L8, keep_prob=keep_prob)\n",
    "\n",
    "with tf.name_scope(\"layer9\") as scope:\n",
    "    logits = tf.matmul(L8, W9) + b9\n",
    "\n",
    "with tf.name_scope(\"cost\") as scope:\n",
    "    cost = tf.reduce_mean(tf.nn.softmax_cross_entropy_with_logits(logits=logits, labels=Y))\n",
    "    cost_summ = tf.summary.scalar(\"cost\", cost)\n",
    "\n",
    "with tf.name_scope(\"train\") as scope:\n",
    "    optimizer = tf.train.AdamOptimizer(learning_rate=learning_rate).minimize(cost)\n",
    "\n",
    "with tf.name_scope(\"prediction\") as scope:\n",
    "    correct_prediction = tf.equal(tf.argmax(logits, 1), tf.argmax(Y, 1))\n",
    "    accuracy = tf.reduce_mean(tf.cast(correct_prediction, tf.float32))\n",
    "    accuracy_summ = tf.summary.scalar(\"accuracy\", accuracy)\n",
    "\n",
    "# train my model\n",
    "sess=tf.Session()\n",
    "print('Learning started. It takes sometime.')\n",
    "merged_summary = tf.summary.merge_all()\n",
    "sess.run(tf.global_variables_initializer())\n",
    "writer = tf.summary.FileWriter('./logs/KIST/learning_rate_0_001')\n",
    "writer.add_graph(sess.graph)\n",
    "step = 0\n",
    "for epoch in range(training_epochs):\n",
    "    avg_cost = 0\n",
    "    avg_a = 0\n",
    "    total_batch = train.total_batch\n",
    "\n",
    "    for i in range(total_batch):\n",
    "        batch_xs, batch_ys = train.Next_Batch()\n",
    "        feed_dict = {X: batch_xs, Y: batch_ys, keep_prob: 0.7}\n",
    "        c, _, a,s = sess.run([cost, optimizer, accuracy,merged_summary], feed_dict=feed_dict)\n",
    "        avg_cost += c / total_batch\n",
    "        avg_a += a / total_batch\n",
    "\n",
    "        writer.add_summary(s, global_step=step)\n",
    "        step += 1\n",
    "\n",
    "    print('Epoch:', '%04d' % (epoch + 1), 'cost =', '{:.9f}'.format(avg_cost), 'accuracy =', '{:.9f}'.format(avg_a))\n",
    "\n",
    "score_rcv=[]\n",
    "score_sv=[]\n",
    "score_dt=[]\n",
    "score_cnn=[]\n",
    "\n",
    "val_list_path = 'data/images_path/val.txt'\n",
    "val_data_path = 'data/images/val/%s'\n",
    "val = DataRead(val_list_path, val_data_path, batch_size=128, nb_classes=13)\n",
    "total_batch_test=val.total_batch\n",
    "\n",
    "#Decision Tree\n",
    "from sklearn import tree\n",
    "clf_dt=tree.DecisionTreeClassifier(criterion='entropy',max_depth=None)\n",
    "\n",
    "#RidgeClassifier\n",
    "from sklearn.linear_model import LinearRegression, RidgeClassifierCV\n",
    "rcv=RidgeClassifierCV()\n",
    "\n",
    "\n",
    "from sklearn import datasets, svm, metrics\n",
    "clf_sv=svm.SVC(kernel='linear',C=1)\n",
    "\n",
    "#test data set for others (except CNN)\n",
    "text_x,text_y=val.All_Data_not_one_hot()\n",
    "text_x=np.array([d.reshape([3*256*256]) for d in text_x])\n",
    "\n",
    "for i in range(total_batch_test):\n",
    "    val_x, val_y = val.Next_Batch()\n",
    "    #AlexNet\n",
    "    a=sess.run(accuracy, feed_dict={X: val_x, Y: val_y, keep_prob: 1})\n",
    "    score_cnn=np.append(score_cnn,a)\n",
    "    \n",
    "    x,y=train.Next_batch_not_one_hot()\n",
    "    x=np.array([d.reshape([3*256*256]) for d in x])\n",
    "    \n",
    "    #Decision Tree\n",
    "    clf_dt.fit(x,y)\n",
    "    score_dt=np.append(score_dt,clf_dt.score(text_x,text_y))\n",
    "    \n",
    "    #RidgeClassifier\n",
    "    rcv.fit(x,y)\n",
    "    score_rcv=np.append(score_rcv,rcv.score(text_x,text_y))\n",
    "    \n",
    "    #support_vector machine\n",
    "    clf_sv.fit(x,y)\n",
    "    score_sv=np.append(score_sv,clf_sv.score(text_x,text_y))\n",
    "\n",
    "print('Accuracy of Decision Tree : ',score_dt.mean())\n",
    "print('Accuracy of LinearRCV : ',score_rcv.mean())\n",
    "print('Accuracy of SVM : ',score_sv.mean())\n",
    "print('Accuracy of CNN : ',score_cnn.mean())\n",
    "\n",
    "value=(score_rcv.mean(),score_sv.mean(),score_dt.mean(),score_cnn.mean())\n",
    "std=(score_rcv.std(),score_sv.std(),score_dt.std(),score_cnn.std())\n",
    "classifiers = ('LinearRCV', 'SVM', 'DT', 'AlexNet')\n",
    "y_pos = np.arange(len(classifiers))\n",
    "\n",
    "plt.bar(y_pos, value, yerr=std, align='center', alpha=0.5)\n",
    "plt.xticks(y_pos, classifiers)\n",
    "plt.ylabel('Score')\n",
    "plt.title('Performance of The Different Classifiers')\n",
    "plt.show()\n"
   ]
  },
  {
   "cell_type": "code",
   "execution_count": null,
   "metadata": {},
   "outputs": [],
   "source": []
  },
  {
   "cell_type": "code",
   "execution_count": 35,
   "metadata": {},
   "outputs": [
    {
     "data": {
      "text/plain": [
       "DecisionTreeClassifier(class_weight=None, criterion='entropy', max_depth=None,\n",
       "            max_features=None, max_leaf_nodes=None,\n",
       "            min_impurity_split=1e-07, min_samples_leaf=1,\n",
       "            min_samples_split=2, min_weight_fraction_leaf=0.0,\n",
       "            presort=False, random_state=None, splitter='best')"
      ]
     },
     "execution_count": 35,
     "metadata": {},
     "output_type": "execute_result"
    }
   ],
   "source": []
  },
  {
   "cell_type": "code",
   "execution_count": 50,
   "metadata": {},
   "outputs": [
    {
     "ename": "KeyboardInterrupt",
     "evalue": "",
     "output_type": "error",
     "traceback": [
      "\u001b[0;31m---------------------------------------------------------------------------\u001b[0m",
      "\u001b[0;31mKeyboardInterrupt\u001b[0m                         Traceback (most recent call last)",
      "\u001b[0;32m<ipython-input-50-4d579fd8ca31>\u001b[0m in \u001b[0;36m<module>\u001b[0;34m()\u001b[0m\n\u001b[1;32m      6\u001b[0m \u001b[0;34m\u001b[0m\u001b[0m\n\u001b[1;32m      7\u001b[0m \u001b[0mclf_dt\u001b[0m\u001b[0;34m=\u001b[0m\u001b[0mtree\u001b[0m\u001b[0;34m.\u001b[0m\u001b[0mDecisionTreeClassifier\u001b[0m\u001b[0;34m(\u001b[0m\u001b[0mcriterion\u001b[0m\u001b[0;34m=\u001b[0m\u001b[0;34m'entropy'\u001b[0m\u001b[0;34m,\u001b[0m\u001b[0mmax_depth\u001b[0m\u001b[0;34m=\u001b[0m\u001b[0;32mNone\u001b[0m\u001b[0;34m)\u001b[0m\u001b[0;34m\u001b[0m\u001b[0m\n\u001b[0;32m----> 8\u001b[0;31m \u001b[0mclf_dt\u001b[0m\u001b[0;34m.\u001b[0m\u001b[0mfit\u001b[0m\u001b[0;34m(\u001b[0m\u001b[0mx\u001b[0m\u001b[0;34m,\u001b[0m\u001b[0my\u001b[0m\u001b[0;34m)\u001b[0m\u001b[0;34m\u001b[0m\u001b[0m\n\u001b[0m\u001b[1;32m      9\u001b[0m \u001b[0mtext_x\u001b[0m\u001b[0;34m,\u001b[0m\u001b[0mtext_y\u001b[0m\u001b[0;34m=\u001b[0m\u001b[0mval\u001b[0m\u001b[0;34m.\u001b[0m\u001b[0mAll_Data\u001b[0m\u001b[0;34m(\u001b[0m\u001b[0;34m)\u001b[0m\u001b[0;34m\u001b[0m\u001b[0m\n\u001b[1;32m     10\u001b[0m \u001b[0mtext_x\u001b[0m\u001b[0;34m=\u001b[0m\u001b[0mnp\u001b[0m\u001b[0;34m.\u001b[0m\u001b[0marray\u001b[0m\u001b[0;34m(\u001b[0m\u001b[0;34m[\u001b[0m\u001b[0md\u001b[0m\u001b[0;34m.\u001b[0m\u001b[0mreshape\u001b[0m\u001b[0;34m(\u001b[0m\u001b[0;34m[\u001b[0m\u001b[0;36m3\u001b[0m\u001b[0;34m*\u001b[0m\u001b[0;36m256\u001b[0m\u001b[0;34m*\u001b[0m\u001b[0;36m256\u001b[0m\u001b[0;34m]\u001b[0m\u001b[0;34m)\u001b[0m \u001b[0;32mfor\u001b[0m \u001b[0md\u001b[0m \u001b[0;32min\u001b[0m \u001b[0mtext_x\u001b[0m\u001b[0;34m]\u001b[0m\u001b[0;34m)\u001b[0m\u001b[0;34m\u001b[0m\u001b[0m\n",
      "\u001b[0;32m/usr/local/lib/python3.5/dist-packages/sklearn/tree/tree.py\u001b[0m in \u001b[0;36mfit\u001b[0;34m(self, X, y, sample_weight, check_input, X_idx_sorted)\u001b[0m\n\u001b[1;32m    737\u001b[0m             \u001b[0msample_weight\u001b[0m\u001b[0;34m=\u001b[0m\u001b[0msample_weight\u001b[0m\u001b[0;34m,\u001b[0m\u001b[0;34m\u001b[0m\u001b[0m\n\u001b[1;32m    738\u001b[0m             \u001b[0mcheck_input\u001b[0m\u001b[0;34m=\u001b[0m\u001b[0mcheck_input\u001b[0m\u001b[0;34m,\u001b[0m\u001b[0;34m\u001b[0m\u001b[0m\n\u001b[0;32m--> 739\u001b[0;31m             X_idx_sorted=X_idx_sorted)\n\u001b[0m\u001b[1;32m    740\u001b[0m         \u001b[0;32mreturn\u001b[0m \u001b[0mself\u001b[0m\u001b[0;34m\u001b[0m\u001b[0m\n\u001b[1;32m    741\u001b[0m \u001b[0;34m\u001b[0m\u001b[0m\n",
      "\u001b[0;32m/usr/local/lib/python3.5/dist-packages/sklearn/tree/tree.py\u001b[0m in \u001b[0;36mfit\u001b[0;34m(self, X, y, sample_weight, check_input, X_idx_sorted)\u001b[0m\n\u001b[1;32m    348\u001b[0m                                            self.min_impurity_split)\n\u001b[1;32m    349\u001b[0m \u001b[0;34m\u001b[0m\u001b[0m\n\u001b[0;32m--> 350\u001b[0;31m         \u001b[0mbuilder\u001b[0m\u001b[0;34m.\u001b[0m\u001b[0mbuild\u001b[0m\u001b[0;34m(\u001b[0m\u001b[0mself\u001b[0m\u001b[0;34m.\u001b[0m\u001b[0mtree_\u001b[0m\u001b[0;34m,\u001b[0m \u001b[0mX\u001b[0m\u001b[0;34m,\u001b[0m \u001b[0my\u001b[0m\u001b[0;34m,\u001b[0m \u001b[0msample_weight\u001b[0m\u001b[0;34m,\u001b[0m \u001b[0mX_idx_sorted\u001b[0m\u001b[0;34m)\u001b[0m\u001b[0;34m\u001b[0m\u001b[0m\n\u001b[0m\u001b[1;32m    351\u001b[0m \u001b[0;34m\u001b[0m\u001b[0m\n\u001b[1;32m    352\u001b[0m         \u001b[0;32mif\u001b[0m \u001b[0mself\u001b[0m\u001b[0;34m.\u001b[0m\u001b[0mn_outputs_\u001b[0m \u001b[0;34m==\u001b[0m \u001b[0;36m1\u001b[0m\u001b[0;34m:\u001b[0m\u001b[0;34m\u001b[0m\u001b[0m\n",
      "\u001b[0;31mKeyboardInterrupt\u001b[0m: "
     ]
    }
   ],
   "source": []
  },
  {
   "cell_type": "code",
   "execution_count": 49,
   "metadata": {},
   "outputs": [
    {
     "ename": "MemoryError",
     "evalue": "",
     "output_type": "error",
     "traceback": [
      "\u001b[0;31m---------------------------------------------------------------------------\u001b[0m",
      "\u001b[0;31mMemoryError\u001b[0m                               Traceback (most recent call last)",
      "\u001b[0;32m<ipython-input-49-e9e16cfd75d7>\u001b[0m in \u001b[0;36m<module>\u001b[0;34m()\u001b[0m\n\u001b[1;32m      1\u001b[0m \u001b[0mx\u001b[0m\u001b[0;34m,\u001b[0m\u001b[0my\u001b[0m\u001b[0;34m=\u001b[0m\u001b[0mtrain\u001b[0m\u001b[0;34m.\u001b[0m\u001b[0mAll_Data\u001b[0m\u001b[0;34m(\u001b[0m\u001b[0;34m)\u001b[0m\u001b[0;34m\u001b[0m\u001b[0m\n\u001b[0;32m----> 2\u001b[0;31m \u001b[0mx\u001b[0m\u001b[0;34m=\u001b[0m\u001b[0mnp\u001b[0m\u001b[0;34m.\u001b[0m\u001b[0marray\u001b[0m\u001b[0;34m(\u001b[0m\u001b[0;34m[\u001b[0m\u001b[0md\u001b[0m\u001b[0;34m.\u001b[0m\u001b[0mreshape\u001b[0m\u001b[0;34m(\u001b[0m\u001b[0;34m[\u001b[0m\u001b[0;36m3\u001b[0m\u001b[0;34m*\u001b[0m\u001b[0;36m256\u001b[0m\u001b[0;34m*\u001b[0m\u001b[0;36m256\u001b[0m\u001b[0;34m]\u001b[0m\u001b[0;34m)\u001b[0m \u001b[0;32mfor\u001b[0m \u001b[0md\u001b[0m \u001b[0;32min\u001b[0m \u001b[0mx\u001b[0m\u001b[0;34m]\u001b[0m\u001b[0;34m)\u001b[0m\u001b[0;34m\u001b[0m\u001b[0m\n\u001b[0m\u001b[1;32m      3\u001b[0m \u001b[0;34m\u001b[0m\u001b[0m\n\u001b[1;32m      4\u001b[0m \u001b[0mclf_dt\u001b[0m\u001b[0;34m=\u001b[0m\u001b[0mtree\u001b[0m\u001b[0;34m.\u001b[0m\u001b[0mDecisionTreeClassifier\u001b[0m\u001b[0;34m(\u001b[0m\u001b[0mcriterion\u001b[0m\u001b[0;34m=\u001b[0m\u001b[0;34m'entropy'\u001b[0m\u001b[0;34m,\u001b[0m\u001b[0mmax_depth\u001b[0m\u001b[0;34m=\u001b[0m\u001b[0;32mNone\u001b[0m\u001b[0;34m)\u001b[0m\u001b[0;34m\u001b[0m\u001b[0m\n\u001b[1;32m      5\u001b[0m \u001b[0mclf_dt\u001b[0m\u001b[0;34m.\u001b[0m\u001b[0mfit\u001b[0m\u001b[0;34m(\u001b[0m\u001b[0mx\u001b[0m\u001b[0;34m,\u001b[0m\u001b[0my\u001b[0m\u001b[0;34m)\u001b[0m\u001b[0;34m\u001b[0m\u001b[0m\n",
      "\u001b[0;31mMemoryError\u001b[0m: "
     ]
    }
   ],
   "source": [
    "x,y=train.Next_Batch()\n",
    "x=np.array([d.reshape([3*256*256]) for d in x])\n",
    "\n",
    "clf_dt=tree.DecisionTreeClassifier(criterion='entropy',max_depth=None)\n",
    "clf_dt.fit(x,y)"
   ]
  },
  {
   "cell_type": "code",
   "execution_count": 94,
   "metadata": {},
   "outputs": [
    {
     "ename": "KeyboardInterrupt",
     "evalue": "",
     "output_type": "error",
     "traceback": [
      "\u001b[0;31m---------------------------------------------------------------------------\u001b[0m",
      "\u001b[0;31mKeyboardInterrupt\u001b[0m                         Traceback (most recent call last)",
      "\u001b[0;32m<ipython-input-94-186ac6806f62>\u001b[0m in \u001b[0;36m<module>\u001b[0;34m()\u001b[0m\n\u001b[1;32m     43\u001b[0m     \u001b[0;31m#support_vector machine\u001b[0m\u001b[0;34m\u001b[0m\u001b[0;34m\u001b[0m\u001b[0m\n\u001b[1;32m     44\u001b[0m     \u001b[0mclf_sv\u001b[0m\u001b[0;34m.\u001b[0m\u001b[0mfit\u001b[0m\u001b[0;34m(\u001b[0m\u001b[0mx\u001b[0m\u001b[0;34m,\u001b[0m\u001b[0my\u001b[0m\u001b[0;34m)\u001b[0m\u001b[0;34m\u001b[0m\u001b[0m\n\u001b[0;32m---> 45\u001b[0;31m     \u001b[0mscore_sv\u001b[0m\u001b[0;34m=\u001b[0m\u001b[0mnp\u001b[0m\u001b[0;34m.\u001b[0m\u001b[0mappend\u001b[0m\u001b[0;34m(\u001b[0m\u001b[0mscore_sv\u001b[0m\u001b[0;34m,\u001b[0m\u001b[0mclf_sv\u001b[0m\u001b[0;34m.\u001b[0m\u001b[0mscore\u001b[0m\u001b[0;34m(\u001b[0m\u001b[0mtext_x\u001b[0m\u001b[0;34m,\u001b[0m\u001b[0mtext_y\u001b[0m\u001b[0;34m)\u001b[0m\u001b[0;34m)\u001b[0m\u001b[0;34m\u001b[0m\u001b[0m\n\u001b[0m\u001b[1;32m     46\u001b[0m \u001b[0;34m\u001b[0m\u001b[0m\n\u001b[1;32m     47\u001b[0m \u001b[0mprint\u001b[0m\u001b[0;34m(\u001b[0m\u001b[0;34m'Accuracy of Decision Tree : '\u001b[0m\u001b[0;34m,\u001b[0m\u001b[0mscore_dt\u001b[0m\u001b[0;34m.\u001b[0m\u001b[0mmean\u001b[0m\u001b[0;34m(\u001b[0m\u001b[0;34m)\u001b[0m\u001b[0;34m)\u001b[0m\u001b[0;34m\u001b[0m\u001b[0m\n",
      "\u001b[0;32m/usr/local/lib/python3.5/dist-packages/sklearn/base.py\u001b[0m in \u001b[0;36mscore\u001b[0;34m(self, X, y, sample_weight)\u001b[0m\n\u001b[1;32m    347\u001b[0m         \"\"\"\n\u001b[1;32m    348\u001b[0m         \u001b[0;32mfrom\u001b[0m \u001b[0;34m.\u001b[0m\u001b[0mmetrics\u001b[0m \u001b[0;32mimport\u001b[0m \u001b[0maccuracy_score\u001b[0m\u001b[0;34m\u001b[0m\u001b[0m\n\u001b[0;32m--> 349\u001b[0;31m         \u001b[0;32mreturn\u001b[0m \u001b[0maccuracy_score\u001b[0m\u001b[0;34m(\u001b[0m\u001b[0my\u001b[0m\u001b[0;34m,\u001b[0m \u001b[0mself\u001b[0m\u001b[0;34m.\u001b[0m\u001b[0mpredict\u001b[0m\u001b[0;34m(\u001b[0m\u001b[0mX\u001b[0m\u001b[0;34m)\u001b[0m\u001b[0;34m,\u001b[0m \u001b[0msample_weight\u001b[0m\u001b[0;34m=\u001b[0m\u001b[0msample_weight\u001b[0m\u001b[0;34m)\u001b[0m\u001b[0;34m\u001b[0m\u001b[0m\n\u001b[0m\u001b[1;32m    350\u001b[0m \u001b[0;34m\u001b[0m\u001b[0m\n\u001b[1;32m    351\u001b[0m \u001b[0;34m\u001b[0m\u001b[0m\n",
      "\u001b[0;32m/usr/local/lib/python3.5/dist-packages/sklearn/svm/base.py\u001b[0m in \u001b[0;36mpredict\u001b[0;34m(self, X)\u001b[0m\n\u001b[1;32m    571\u001b[0m             \u001b[0mClass\u001b[0m \u001b[0mlabels\u001b[0m \u001b[0;32mfor\u001b[0m \u001b[0msamples\u001b[0m \u001b[0;32min\u001b[0m \u001b[0mX\u001b[0m\u001b[0;34m.\u001b[0m\u001b[0;34m\u001b[0m\u001b[0m\n\u001b[1;32m    572\u001b[0m         \"\"\"\n\u001b[0;32m--> 573\u001b[0;31m         \u001b[0my\u001b[0m \u001b[0;34m=\u001b[0m \u001b[0msuper\u001b[0m\u001b[0;34m(\u001b[0m\u001b[0mBaseSVC\u001b[0m\u001b[0;34m,\u001b[0m \u001b[0mself\u001b[0m\u001b[0;34m)\u001b[0m\u001b[0;34m.\u001b[0m\u001b[0mpredict\u001b[0m\u001b[0;34m(\u001b[0m\u001b[0mX\u001b[0m\u001b[0;34m)\u001b[0m\u001b[0;34m\u001b[0m\u001b[0m\n\u001b[0m\u001b[1;32m    574\u001b[0m         \u001b[0;32mreturn\u001b[0m \u001b[0mself\u001b[0m\u001b[0;34m.\u001b[0m\u001b[0mclasses_\u001b[0m\u001b[0;34m.\u001b[0m\u001b[0mtake\u001b[0m\u001b[0;34m(\u001b[0m\u001b[0mnp\u001b[0m\u001b[0;34m.\u001b[0m\u001b[0masarray\u001b[0m\u001b[0;34m(\u001b[0m\u001b[0my\u001b[0m\u001b[0;34m,\u001b[0m \u001b[0mdtype\u001b[0m\u001b[0;34m=\u001b[0m\u001b[0mnp\u001b[0m\u001b[0;34m.\u001b[0m\u001b[0mintp\u001b[0m\u001b[0;34m)\u001b[0m\u001b[0;34m)\u001b[0m\u001b[0;34m\u001b[0m\u001b[0m\n\u001b[1;32m    575\u001b[0m \u001b[0;34m\u001b[0m\u001b[0m\n",
      "\u001b[0;32m/usr/local/lib/python3.5/dist-packages/sklearn/svm/base.py\u001b[0m in \u001b[0;36mpredict\u001b[0;34m(self, X)\u001b[0m\n\u001b[1;32m    310\u001b[0m         \u001b[0mX\u001b[0m \u001b[0;34m=\u001b[0m \u001b[0mself\u001b[0m\u001b[0;34m.\u001b[0m\u001b[0m_validate_for_predict\u001b[0m\u001b[0;34m(\u001b[0m\u001b[0mX\u001b[0m\u001b[0;34m)\u001b[0m\u001b[0;34m\u001b[0m\u001b[0m\n\u001b[1;32m    311\u001b[0m         \u001b[0mpredict\u001b[0m \u001b[0;34m=\u001b[0m \u001b[0mself\u001b[0m\u001b[0;34m.\u001b[0m\u001b[0m_sparse_predict\u001b[0m \u001b[0;32mif\u001b[0m \u001b[0mself\u001b[0m\u001b[0;34m.\u001b[0m\u001b[0m_sparse\u001b[0m \u001b[0;32melse\u001b[0m \u001b[0mself\u001b[0m\u001b[0;34m.\u001b[0m\u001b[0m_dense_predict\u001b[0m\u001b[0;34m\u001b[0m\u001b[0m\n\u001b[0;32m--> 312\u001b[0;31m         \u001b[0;32mreturn\u001b[0m \u001b[0mpredict\u001b[0m\u001b[0;34m(\u001b[0m\u001b[0mX\u001b[0m\u001b[0;34m)\u001b[0m\u001b[0;34m\u001b[0m\u001b[0m\n\u001b[0m\u001b[1;32m    313\u001b[0m \u001b[0;34m\u001b[0m\u001b[0m\n\u001b[1;32m    314\u001b[0m     \u001b[0;32mdef\u001b[0m \u001b[0m_dense_predict\u001b[0m\u001b[0;34m(\u001b[0m\u001b[0mself\u001b[0m\u001b[0;34m,\u001b[0m \u001b[0mX\u001b[0m\u001b[0;34m)\u001b[0m\u001b[0;34m:\u001b[0m\u001b[0;34m\u001b[0m\u001b[0m\n",
      "\u001b[0;32m/usr/local/lib/python3.5/dist-packages/sklearn/svm/base.py\u001b[0m in \u001b[0;36m_dense_predict\u001b[0;34m(self, X)\u001b[0m\n\u001b[1;32m    333\u001b[0m             \u001b[0mself\u001b[0m\u001b[0;34m.\u001b[0m\u001b[0mprobA_\u001b[0m\u001b[0;34m,\u001b[0m \u001b[0mself\u001b[0m\u001b[0;34m.\u001b[0m\u001b[0mprobB_\u001b[0m\u001b[0;34m,\u001b[0m \u001b[0msvm_type\u001b[0m\u001b[0;34m=\u001b[0m\u001b[0msvm_type\u001b[0m\u001b[0;34m,\u001b[0m \u001b[0mkernel\u001b[0m\u001b[0;34m=\u001b[0m\u001b[0mkernel\u001b[0m\u001b[0;34m,\u001b[0m\u001b[0;34m\u001b[0m\u001b[0m\n\u001b[1;32m    334\u001b[0m             \u001b[0mdegree\u001b[0m\u001b[0;34m=\u001b[0m\u001b[0mself\u001b[0m\u001b[0;34m.\u001b[0m\u001b[0mdegree\u001b[0m\u001b[0;34m,\u001b[0m \u001b[0mcoef0\u001b[0m\u001b[0;34m=\u001b[0m\u001b[0mself\u001b[0m\u001b[0;34m.\u001b[0m\u001b[0mcoef0\u001b[0m\u001b[0;34m,\u001b[0m \u001b[0mgamma\u001b[0m\u001b[0;34m=\u001b[0m\u001b[0mself\u001b[0m\u001b[0;34m.\u001b[0m\u001b[0m_gamma\u001b[0m\u001b[0;34m,\u001b[0m\u001b[0;34m\u001b[0m\u001b[0m\n\u001b[0;32m--> 335\u001b[0;31m             cache_size=self.cache_size)\n\u001b[0m\u001b[1;32m    336\u001b[0m \u001b[0;34m\u001b[0m\u001b[0m\n\u001b[1;32m    337\u001b[0m     \u001b[0;32mdef\u001b[0m \u001b[0m_sparse_predict\u001b[0m\u001b[0;34m(\u001b[0m\u001b[0mself\u001b[0m\u001b[0;34m,\u001b[0m \u001b[0mX\u001b[0m\u001b[0;34m)\u001b[0m\u001b[0;34m:\u001b[0m\u001b[0;34m\u001b[0m\u001b[0m\n",
      "\u001b[0;31mKeyboardInterrupt\u001b[0m: "
     ]
    }
   ],
   "source": [
    "score_rcv=[]\n",
    "score_sv=[]\n",
    "score_dt=[]\n",
    "score_cnn=[]\n",
    "\n",
    "val_list_path = 'data/images_path/val.txt'\n",
    "val_data_path = 'data/images/val/%s'\n",
    "val = DataRead(val_list_path, val_data_path, batch_size=128, nb_classes=13)\n",
    "total_batch_test=val.total_batch\n",
    "\n",
    "#Decision Tree\n",
    "from sklearn import tree\n",
    "clf_dt=tree.DecisionTreeClassifier(criterion='entropy',max_depth=None)\n",
    "\n",
    "#RidgeClassifier\n",
    "from sklearn.linear_model import LinearRegression, RidgeClassifierCV\n",
    "rcv=RidgeClassifierCV()\n",
    "\n",
    "\n",
    "from sklearn import datasets, svm, metrics\n",
    "clf_sv=svm.SVC(kernel='linear',C=1)\n",
    "\n",
    "#test data set for others (except CNN)\n",
    "text_x,text_y=val.All_Data_not_one_hot()\n",
    "text_x=np.array([d.reshape([3*256*256]) for d in text_x])\n",
    "\n",
    "for i in range(total_batch_test):\n",
    "    val_x, val_y = val.Next_Batch()\n",
    "    #AlexNet\n",
    "    a=sess.run(accuracy, feed_dict={X: val_x, Y: val_y, keep_prob: 1})\n",
    "    score_cnn=np.append(score_cnn,a)\n",
    "    \n",
    "    x,y=train.Next_batch_not_one_hot()\n",
    "    x=np.array([d.reshape([3*256*256]) for d in x])\n",
    "    \n",
    "    #Decision Tree\n",
    "    clf_dt.fit(x,y)\n",
    "    score_dt=np.append(score_dt,clf_dt.score(text_x,text_y))\n",
    "    \n",
    "    #RidgeClassifier\n",
    "    rcv.fit(x,y)\n",
    "    score_rcv=np.append(score_rcv,rcv.score(text_x,text_y))\n",
    "    \n",
    "    #support_vector machine\n",
    "    clf_sv.fit(x,y)\n",
    "    score_sv=np.append(score_sv,clf_sv.score(text_x,text_y))\n",
    "\n",
    "print('Accuracy of Decision Tree : ',score_dt.mean())\n",
    "print('Accuracy of LinearRCV : ',score_rcv.mean())\n",
    "print('Accuracy of SVM : ',score_sv.mean())\n",
    "print('Accuracy of CNN : ',score_cnn.mean())\n",
    "\n",
    "value=(score_rcv.mean(),score_sv.mean(),score_dt.mean(),score_cnn.mean())\n",
    "std=(score_rcv.std(),score_sv.std(),score_dt.std(),score_cnn.std())\n",
    "classifiers = ('LinearRCV', 'SVM', 'DT', 'AlexNet')\n",
    "y_pos = np.arange(len(classifiers))\n",
    "\n",
    "plt.bar(y_pos, value, yerr=std, align='center', alpha=0.5)\n",
    "plt.xticks(y_pos, classifiers)\n",
    "plt.ylabel('Score')\n",
    "plt.title('Performance of The Different Classifiers')\n",
    "plt.show()\n"
   ]
  },
  {
   "cell_type": "code",
   "execution_count": 85,
   "metadata": {},
   "outputs": [
    {
     "name": "stdout",
     "output_type": "stream",
     "text": [
      "[ 0.5581638   0.55242567]\n"
     ]
    }
   ],
   "source": [
    "\n",
    "# for i in range(total_batch_test):\n",
    "#     print(i)\n",
    "\n",
    "print(score_dt)\n"
   ]
  },
  {
   "cell_type": "code",
   "execution_count": 84,
   "metadata": {},
   "outputs": [
    {
     "name": "stdout",
     "output_type": "stream",
     "text": [
      "[ 0.61398018  0.64840897]\n"
     ]
    }
   ],
   "source": [
    "\n",
    "# for i in range(total_batch_test):\n",
    "#     print(i)\n",
    "x,y=train.Next_batch_not_one_hot()\n",
    "x=np.array([d.reshape([3*256*256]) for d in x])\n",
    "\n",
    "print(score_rcv)"
   ]
  },
  {
   "cell_type": "code",
   "execution_count": 88,
   "metadata": {
    "collapsed": true
   },
   "outputs": [],
   "source": [
    "\n",
    "x,y=train.Next_batch_not_one_hot()\n",
    "x=np.array([d.reshape([3*256*256]) for d in x])\n",
    "\n",
    "print(score_sv)"
   ]
  },
  {
   "cell_type": "code",
   "execution_count": 89,
   "metadata": {},
   "outputs": [
    {
     "name": "stdout",
     "output_type": "stream",
     "text": [
      "[ 0.72822118  0.6875326 ]\n"
     ]
    }
   ],
   "source": [
    "print(score_sv)"
   ]
  },
  {
   "cell_type": "code",
   "execution_count": 91,
   "metadata": {},
   "outputs": [
    {
     "data": {
      "image/png": "[encoded data removed]",
      "text/plain": [
       "<matplotlib.figure.Figure at 0x7f676402d2e8>"
      ]
     },
     "metadata": {},
     "output_type": "display_data"
    }
   ],
   "source": [
    "\n",
    "        "
   ]
  },
  {
   "cell_type": "code",
   "execution_count": 95,
   "metadata": {},
   "outputs": [
    {
     "data": {
      "image/png": "[encoded data removed]",
      "text/plain": [
       "<matplotlib.figure.Figure at 0x7f6766f53710>"
      ]
     },
     "metadata": {},
     "output_type": "display_data"
    }
   ],
   "source": [
    "value=(score_rcv.mean(),score_sv.mean(),score_dt.mean(),score_cnn.mean())\n",
    "std=(score_rcv.std(),score_sv.std(),score_dt.std(),score_cnn.std())\n",
    "classifiers = ('LinearRCV', 'SVM', 'DT', 'AlexNet')\n",
    "y_pos = np.arange(len(classifiers))\n",
    "\n",
    "plt.bar(y_pos, value, yerr=std, align='center', alpha=0.5)\n",
    "plt.xticks(y_pos, classifiers)\n",
    "plt.ylabel('Score')\n",
    "plt.title('Performance of The Different Classifiers')\n",
    "plt.show()\n"
   ]
  },
  {
   "cell_type": "code",
   "execution_count": 75,
   "metadata": {
    "collapsed": true
   },
   "outputs": [],
   "source": []
  },
  {
   "cell_type": "code",
   "execution_count": null,
   "metadata": {
    "collapsed": true
   },
   "outputs": [],
   "source": []
  }
 ],
 "metadata": {
  "kernelspec": {
   "display_name": "Python 3",
   "language": "python",
   "name": "python3"
  },
  "language_info": {
   "codemirror_mode": {
    "name": "ipython",
    "version": 3
   },
   "file_extension": ".py",
   "mimetype": "text/x-python",
   "name": "python",
   "nbconvert_exporter": "python",
   "pygments_lexer": "ipython3",
   "version": "3.5.2"
  }
 },
 "nbformat": 4,
 "nbformat_minor": 2
}
