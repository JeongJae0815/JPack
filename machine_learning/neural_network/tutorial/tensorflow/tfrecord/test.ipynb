{
 "cells": [
  {
   "cell_type": "code",
   "execution_count": null,
   "metadata": {},
   "outputs": [],
   "source": [
    "from random import shuffle\n",
    "import glob\n",
    "import tensorflow as tf\n",
    "import cv2\n",
    "import sys\n",
    "import numpy as np\n",
    "shuffle_data = False  # shuffle the addresses before saving\n",
    "\n",
    "img_list=a.image_list\n",
    "label_list=a.label_list\n",
    "\n",
    "def load_image(addr):\n",
    "    # read an image and resize to (224, 224)\n",
    "    # cv2 load images as BGR, convert it to RGB\n",
    "    img = cv2.imread(addr)\n",
    "    img = cv2.resize(img, (224, 224), interpolation=cv2.INTER_CUBIC)\n",
    "    img = cv2.cvtColor(img, cv2.COLOR_BGR2RGB)\n",
    "    img = img.astype(np.float32)\n",
    "    return img\n",
    "\n",
    "def _int64_feature(value):\n",
    "  return tf.train.Feature(int64_list=tf.train.Int64List(value=[value]))\n",
    "\n",
    "def _bytes_feature(value):\n",
    "  return tf.train.Feature(bytes_list=tf.train.BytesList(value=[value]))\n",
    "\n",
    "train_filename = 'train.tfrecords'  # address to save the TFRecords file\n",
    "# open the TFRecords file\n",
    "writer = tf.python_io.TFRecordWriter(train_filename)\n",
    "\n",
    "for i in range(len(img_list)):\n",
    "    # print how many images are saved every 1000 images\n",
    "    if not i % 1000:\n",
    "        print('Train data: {}/{}'.format(i, len(img_list)))\n",
    "        sys.stdout.flush()\n",
    "    # Load the image\n",
    "    img = load_image(img_list[i])\n",
    "    label = load_image(label_list[i])\n",
    "    \n",
    "    # Create a feature\n",
    "    feature = {'train/label': _bytes_feature(tf.compat.as_bytes(label.tostring())),\n",
    "               'train/image': _bytes_feature(tf.compat.as_bytes(img.tostring()))}\n",
    "    b=tf.train.Features(feature=feature)\n",
    "    # Create an example protocol buffer\n",
    "    example = tf.train.Example(features=b)\n",
    "    \n",
    "    # Serialize to string and write on the file\n",
    "    writer.write(example.SerializeToString())\n",
    "    \n",
    "writer.close()\n",
    "sys.stdout.flush()    "
   ]
  },
  {
   "cell_type": "code",
   "execution_count": null,
   "metadata": {
    "scrolled": false
   },
   "outputs": [],
   "source": [
    "import tensorflow as tf\n",
    "import numpy as np\n",
    "import matplotlib.pyplot as plt\n",
    "data_path = 'train.tfrecords'  # address to save the hdf5 file\n",
    "with tf.Session() as sess:\n",
    "    feature = {'train/image': tf.FixedLenFeature([], tf.string),\n",
    "               'train/label': tf.FixedLenFeature([], tf.string)}\n",
    "    # Create a list of filenames and pass it to a queue\n",
    "    filename_queue = tf.train.string_input_producer([data_path], num_epochs=2)\n",
    "    # Define a reader and read the next record\n",
    "    reader = tf.TFRecordReader()\n",
    "    _, serialized_example = reader.read(filename_queue)\n",
    "    # Decode the record read by the reader\n",
    "    features = tf.parse_single_example(serialized_example, features=feature)\n",
    "    # Convert the image data from string back to the numbers\n",
    "    image = tf.decode_raw(features['train/image'], tf.float32)\n",
    "    label = tf.decode_raw(features['train/label'], tf.float32)\n",
    "    \n",
    "    # Cast label data into int32\n",
    "    #label = tf.cast(features['train/label'], tf.int32)\n",
    "    # Reshape image data into the original shape\n",
    "    image = tf.reshape(image, [224, 224, 3])\n",
    "    label = tf.reshape(label, [224, 224, 3])\n",
    "    # Any preprocessing here ...\n",
    "    \n",
    "    # Creates batches by randomly shuffling tensors\n",
    "    images, labels = tf.train.batch([image, label], batch_size=5, capacity=30, num_threads=1)\n",
    "        # Initialize all global and local variables\n",
    "    \n",
    "    init_op = tf.group(tf.global_variables_initializer(), tf.local_variables_initializer())\n",
    "    sess.run(init_op)\n",
    "    # Create a coordinator and run all QueueRunner objects\n",
    "    coord = tf.train.Coordinator()\n",
    "    threads = tf.train.start_queue_runners(coord=coord)\n",
    "    i=0\n",
    "    try:\n",
    "        while not coord.should_stop():\n",
    "            i=i+1\n",
    "            if not i % 1:\n",
    "                print('Train data: {}'.format(i))\n",
    "                print(labels.shape)\n",
    "                sys.stdout.flush()\n",
    "            img1, lbl1 = sess.run([images, labels])\n",
    "            if i==294:\n",
    "                aaaa=img1\n",
    "            \n",
    "    except tf.errors.OutOfRangeError:\n",
    "        print('Done training, epoch reached')\n",
    "        #img1, lbl1 = sess.run([images, labels])\n",
    "        \n",
    "        #img = img1.astype(np.uint8)\n",
    "        #lbl = lbl1.astype(np.uint8)\n",
    "        \n",
    "        #for j in range(10):\n",
    "        #    plt.subplot(2, 5, j+1)\n",
    "        #    #plt.imshow(img[j, ...])\n",
    "            \n",
    "        #    plt.imshow(lbl[j, ...])\n",
    "        ##plt.show()\n",
    "        #for j in range(10):\n",
    "        #    plt.subplot(2, 5, j+1)\n",
    "        #    plt.imshow(img[j, ...])\n",
    "        #plt.show()\n",
    "    # Stop the threads\n",
    "    coord.request_stop()\n",
    "    \n",
    "    # Wait for threads to stop\n",
    "    coord.join(threads)\n",
    "    sess.close()"
   ]
  },
  {
   "cell_type": "code",
   "execution_count": null,
   "metadata": {
    "scrolled": true
   },
   "outputs": [],
   "source": [
    "import tensorflow as tf\n",
    "import numpy as np\n",
    "import matplotlib.pyplot as plt\n",
    "data_path = 'train.tfrecords'  # address to save the hdf5 file\n",
    "sess=tf.Session()\n",
    "feature = {'train/image': tf.FixedLenFeature([], tf.string),\n",
    "           'train/label': tf.FixedLenFeature([], tf.string)}\n",
    "# Create a list of filenames and pass it to a queue\n",
    "filename_queue = tf.train.string_input_producer([data_path], num_epochs=1)\n",
    "# Define a reader and read the next record\n",
    "reader = tf.TFRecordReader()\n",
    "_, serialized_example = reader.read(filename_queue)\n",
    "# Decode the record read by the reader\n",
    "features = tf.parse_single_example(serialized_example, features=feature)\n",
    "# Convert the image data from string back to the numbers\n",
    "image = tf.decode_raw(features['train/image'], tf.float32)\n",
    "label = tf.decode_raw(features['train/label'], tf.float32)\n",
    "\n",
    "# Cast label data into int32\n",
    "#label = tf.cast(features['train/label'], tf.int32)\n",
    "# Reshape image data into the original shape\n",
    "image = tf.reshape(image, [224, 224, 3])\n",
    "label = tf.reshape(label, [224, 224, 3])\n",
    "# Any preprocessing here ...\n",
    "\n",
    "# Creates batches by randomly shuffling tensors\n",
    "images, labels = tf.train.shuffle_batch([image, label], batch_size=10, capacity=30, num_threads=1, min_after_dequeue=10)\n",
    "    # Initialize all global and local variables\n",
    "\n",
    "init_op = tf.group(tf.global_variables_initializer(), tf.local_variables_initializer())\n",
    "sess.run(init_op)\n",
    "# Create a coordinator and run all QueueRunner objects\n",
    "coord = tf.train.Coordinator()\n",
    "threads = tf.train.start_queue_runners(coord=coord)\n",
    "for batch_index in range(1):\n",
    "    img1, lbl1 = sess.run([images, labels])\n",
    "\n",
    "    img = img1.astype(np.uint8)\n",
    "    lbl = lbl1.astype(np.uint8)\n",
    "\n",
    "    for j in range(10):\n",
    "        plt.subplot(2, 5, j+1)\n",
    "        #plt.imshow(img[j, ...])\n",
    "\n",
    "        plt.imshow(lbl[j, ...])\n",
    "    plt.show()\n",
    "    for j in range(10):\n",
    "        plt.subplot(2, 5, j+1)\n",
    "        plt.imshow(img[j, ...])\n",
    "    plt.show()\n",
    "# Stop the threads\n",
    "coord.request_stop()\n",
    "\n",
    "# Wait for threads to stop\n",
    "coord.join(threads)\n",
    "sess.close()"
   ]
  },
  {
   "cell_type": "code",
   "execution_count": 1,
   "metadata": {},
   "outputs": [],
   "source": [
    "from random import shuffle\n",
    "import glob\n",
    "import tensorflow as tf\n",
    "import cv2\n",
    "import sys\n",
    "import numpy as np\n",
    "\n",
    "#image read\n",
    "from PIL import Image # image class read\n",
    "import skimage.io as io # image rgb read\n",
    "\n",
    "#data_list read\n",
    "\n",
    "def _int64_feature(value):\n",
    "  return tf.train.Feature(int64_list=tf.train.Int64List(value=[value]))\n",
    "\n",
    "def _bytes_feature(value):\n",
    "  return tf.train.Feature(bytes_list=tf.train.BytesList(value=[value]))\n",
    "\n",
    "\n",
    "def read_labeled_image_list(data_dir, data_list):\n",
    "    \"\"\"Reads txt file containing paths to images and ground truth masks.\n",
    "\n",
    "    Args:\n",
    "      data_dir: path to the directory with images and masks.\n",
    "      data_list: path to the file with lines of the form '/path/to/image /path/to/mask'.\n",
    "\n",
    "    Returns:\n",
    "      Two lists with all file names for images and masks, respectively.\n",
    "    \"\"\"\n",
    "    f = open(data_list, 'r')\n",
    "    images = []\n",
    "    masks = []\n",
    "    for line in f:\n",
    "        try:\n",
    "            image = mask = line.strip(\"\\n\")\n",
    "        except ValueError: # Adhoc for test.\n",
    "            image = mask = line.strip(\"\\n\")\n",
    "        images.append(data_dir + '/JPEGImages/'+image+'.jpg')\n",
    "        masks.append(data_dir + '/SegmentationClass/'+mask+'.png')\n",
    "    return images, masks\n",
    "\n",
    "def write_images_from_disk_tfrecord(img_list, label_list,tfrecords_filename): # optional pre-processing arguments\n",
    "    \"\"\"Read one image and its corresponding mask with optional pre-processing.\n",
    "\n",
    "    Args:\n",
    "\n",
    "    Returns:\n",
    "      Two tensors: the decoded image and its mask.\n",
    "    \"\"\"\n",
    "    writer = tf.python_io.TFRecordWriter(tfrecords_filename)\n",
    "\n",
    "    # Let's collect the real images to later on compare\n",
    "    # to the reconstructed ones\n",
    "    original_images = []\n",
    "    filename_pairs=zip(img_list,label_list)\n",
    "    i=0\n",
    "    for img_path, annotation_path in filename_pairs:\n",
    "        i=i+1\n",
    "        if not i % 100:\n",
    "            print('Train data: {}/{}'.format(i, len(img_list)))\n",
    "            sys.stdout.flush()\n",
    "\n",
    "        img = np.array(Image.open(img_path))\n",
    "        annotation = np.array(Image.open(annotation_path))\n",
    "\n",
    "        # The reason to store image sizes was demonstrated\n",
    "        # in the previous example -- we have to know sizes\n",
    "        # of images to later read raw serialized string,\n",
    "        # convert to 1d array and convert to respective\n",
    "        # shape that image used to have.\n",
    "        height = img.shape[0]\n",
    "        width = img.shape[1]\n",
    "\n",
    "        # Put in the original images into array\n",
    "        # Just for future check for correctness\n",
    "        #original_images.append((img, annotation))\n",
    "\n",
    "        img_raw = img.tostring()\n",
    "        annotation_raw = annotation.tostring()\n",
    "\n",
    "        example = tf.train.Example(features=tf.train.Features(feature={\n",
    "            'height': _int64_feature(height),\n",
    "            'width': _int64_feature(width),\n",
    "            'image_raw': _bytes_feature(img_raw),\n",
    "            'mask_raw': _bytes_feature(annotation_raw)}))\n",
    "        writer.write(example.SerializeToString())\n",
    "    writer.close()\n",
    "\n",
    "class ImageReader(object):\n",
    "    '''Generic ImageReader which reads images and corresponding segmentation\n",
    "       masks from the disk, and enqueues them into a TensorFlow queue.\n",
    "    '''\n",
    "\n",
    "    def __init__(self, data_dir, data_list,tfrecords_filename,input_size):#, input_size, random_scale, random_mirror, img_mean, coord):\n",
    "        '''Initialise an ImageReader.\n",
    "        \n",
    "        Args:\n",
    "          train_data_dir: ////////////////////path to the directory with images and masks.\n",
    "          label_data_dir: ////////////////////path to the file with lines of the form '/path/to/image /path/to/mask'.\n",
    "          input_size: a tuple with (height, width) values, to which all the images will be resized.\n",
    "          random_scale: whether to randomly scale the images prior to random crop.\n",
    "          random_mirror: whether to randomly mirror the images prior to random crop.\n",
    "          ignore_label: index of label to ignore during the training.\n",
    "          img_mean: vector of mean colour values.\n",
    "          coord: TensorFlow queue coordinator.\n",
    "        '''\n",
    "        self.data_dir = data_dir\n",
    "        self.data_list = data_list\n",
    "        self.input_size = input_size\n",
    "        self.tfrecords_filename = tfrecords_filename\n",
    "\n",
    "        self.image_list, self.label_list = read_labeled_image_list(self.data_dir, self.data_list)               \n",
    "        write_images_from_disk_tfrecord(self.image_list, self.label_list,self.tfrecords_filename) \n",
    "        \n",
    "\n",
    "    \n",
    "    def read_and_decode(self,tfrecords_filename,epochs,batch_size):\n",
    "        filename_queue = tf.train.string_input_producer([tfrecords_filename], num_epochs=epochs)\n",
    "\n",
    "        IMAGE_HEIGHT, IMAGE_WIDTH = self.input_size    \n",
    "        reader = tf.TFRecordReader()\n",
    "        _, serialized_example = reader.read(filename_queue)\n",
    "\n",
    "        features = tf.parse_single_example(\n",
    "          serialized_example,\n",
    "          # Defaults are not specified since both keys are required.\n",
    "          features={\n",
    "            'height': tf.FixedLenFeature([], tf.int64),\n",
    "            'width': tf.FixedLenFeature([], tf.int64),\n",
    "            'image_raw': tf.FixedLenFeature([], tf.string),\n",
    "            'mask_raw': tf.FixedLenFeature([], tf.string)\n",
    "            })\n",
    "\n",
    "        # Convert from a scalar string tensor (whose single string has\n",
    "        # length mnist.IMAGE_PIXELS) to a uint8 tensor with shape\n",
    "        # [mnist.IMAGE_PIXELS].\n",
    "        \n",
    "        image = tf.decode_raw(features['image_raw'], tf.uint8)\n",
    "        annotation = tf.decode_raw(features['mask_raw'], tf.uint8)\n",
    "\n",
    "        height = tf.cast(features['height'], tf.int32)\n",
    "        width = tf.cast(features['width'], tf.int32)\n",
    "\n",
    "        image_shape = tf.stack([height, width, 3])\n",
    "        annotation_shape = tf.stack([height, width, 1])\n",
    "\n",
    "        image = tf.reshape(image, image_shape)\n",
    "        annotation = tf.reshape(annotation, annotation_shape)\n",
    "\n",
    "        image_size_const = tf.constant((IMAGE_HEIGHT, IMAGE_WIDTH, 3), dtype=tf.int32)\n",
    "        annotation_size_const = tf.constant((IMAGE_HEIGHT, IMAGE_WIDTH, 1), dtype=tf.int32)\n",
    "\n",
    "        # Random transformations can be put here: right before you crop images\n",
    "        # to predefined size. To get more information look at the stackoverflow\n",
    "        # question linked above.\n",
    "\n",
    "        resized_image = tf.image.resize_image_with_crop_or_pad(image=image,\n",
    "                                               target_height=IMAGE_HEIGHT,\n",
    "                                               target_width=IMAGE_WIDTH)\n",
    "\n",
    "        resized_annotation = tf.image.resize_image_with_crop_or_pad(image=annotation,\n",
    "                                               target_height=IMAGE_HEIGHT,\n",
    "                                               target_width=IMAGE_WIDTH)\n",
    "\n",
    "\n",
    "        images, annotations = tf.train.shuffle_batch( [resized_image, resized_annotation],\n",
    "                                                     batch_size=batch_size,\n",
    "                                                     capacity=30,\n",
    "                                                     num_threads=2,\n",
    "                                                     min_after_dequeue=10)\n",
    "\n",
    "        return images, annotations\n",
    "\n"
   ]
  },
  {
   "cell_type": "code",
   "execution_count": 2,
   "metadata": {},
   "outputs": [
    {
     "name": "stdout",
     "output_type": "stream",
     "text": [
      "Train data: 100/1464\n",
      "Train data: 200/1464\n",
      "Train data: 300/1464\n",
      "Train data: 400/1464\n",
      "Train data: 500/1464\n",
      "Train data: 600/1464\n",
      "Train data: 700/1464\n",
      "Train data: 800/1464\n",
      "Train data: 900/1464\n",
      "Train data: 1000/1464\n",
      "Train data: 1100/1464\n",
      "Train data: 1200/1464\n",
      "Train data: 1300/1464\n",
      "Train data: 1400/1464\n"
     ]
    }
   ],
   "source": [
    "DATA_DIRECTORY = '/media/jeongjaepark/PERL/NeuralNetworkDataset/PascalVOCC/VOC2012/train/VOCdevkit/VOC2012'\n",
    "DATA_LIST_PATH = '/media/jeongjaepark/PERL/NeuralNetworkDataset/PascalVOCC/VOC2012/train/VOCdevkit/VOC2012/ImageSets/Segmentation/train.txt'\n",
    "\n",
    "tfrecords_filename = 'pascal_voc_segmentation.tfrecords'\n",
    "input_size=(332,332)\n",
    "train_data=ImageReader(DATA_DIRECTORY,DATA_LIST_PATH,tfrecords_filename,input_size)"
   ]
  },
  {
   "cell_type": "code",
   "execution_count": 4,
   "metadata": {},
   "outputs": [
    {
     "name": "stdout",
     "output_type": "stream",
     "text": [
      "Train data: 100\n",
      "Train data: 200\n",
      "Train data: 300\n",
      "Train data: 400\n",
      "Train data: 500\n",
      "Done training, epoch reached\n"
     ]
    }
   ],
   "source": [
    "image,annotation=train_data.read_and_decode(tfrecords_filename,2,5)\n",
    "init_op = tf.group(tf.global_variables_initializer(),tf.local_variables_initializer())\n",
    "with tf.Session()  as sess:\n",
    "    sess.run(init_op)\n",
    "    \n",
    "    coord = tf.train.Coordinator()\n",
    "    threads = tf.train.start_queue_runners(coord=coord)\n",
    "    # Let's read off 3 batches just for example\n",
    "\n",
    "    i=0\n",
    "    try:\n",
    "        while not coord.should_stop():\n",
    "            i=i+1\n",
    "            if not i % 100:\n",
    "                print('Train data: {}'.format(i))\n",
    "                sys.stdout.flush()\n",
    "            img, anno = sess.run([image, annotation])\n",
    "            \n",
    "    except tf.errors.OutOfRangeError:\n",
    "        print('Done training, epoch reached')\n",
    "    \n",
    "    #img1, anno1 = sess.run([image, annotation])\n",
    "    coord.request_stop()\n",
    "    # Wait for threads to stop\n",
    "    coord.join(threads)\n",
    "    sess.close()"
   ]
  },
  {
   "cell_type": "code",
   "execution_count": 5,
   "metadata": {},
   "outputs": [
    {
     "data": {
      "image/png": "[encoded data removed]",
      "text/plain": [
       "<Figure size 432x288 with 1 Axes>"
      ]
     },
     "metadata": {},
     "output_type": "display_data"
    }
   ],
   "source": [
    "io.imshow(img[0, :, :, :])\n",
    "io.show()"
   ]
  },
  {
   "cell_type": "code",
   "execution_count": null,
   "metadata": {},
   "outputs": [],
   "source": []
  },
  {
   "cell_type": "code",
   "execution_count": null,
   "metadata": {},
   "outputs": [],
   "source": []
  },
  {
   "cell_type": "code",
   "execution_count": null,
   "metadata": {},
   "outputs": [],
   "source": []
  },
  {
   "cell_type": "code",
   "execution_count": null,
   "metadata": {},
   "outputs": [],
   "source": []
  },
  {
   "cell_type": "code",
   "execution_count": null,
   "metadata": {},
   "outputs": [],
   "source": []
  },
  {
   "cell_type": "code",
   "execution_count": null,
   "metadata": {},
   "outputs": [],
   "source": []
  },
  {
   "cell_type": "code",
   "execution_count": null,
   "metadata": {},
   "outputs": [],
   "source": []
  },
  {
   "cell_type": "code",
   "execution_count": null,
   "metadata": {},
   "outputs": [],
   "source": []
  },
  {
   "cell_type": "code",
   "execution_count": null,
   "metadata": {},
   "outputs": [],
   "source": []
  },
  {
   "cell_type": "code",
   "execution_count": null,
   "metadata": {},
   "outputs": [],
   "source": []
  },
  {
   "cell_type": "code",
   "execution_count": null,
   "metadata": {},
   "outputs": [],
   "source": []
  },
  {
   "cell_type": "code",
   "execution_count": null,
   "metadata": {},
   "outputs": [],
   "source": []
  },
  {
   "cell_type": "code",
   "execution_count": null,
   "metadata": {},
   "outputs": [],
   "source": []
  },
  {
   "cell_type": "code",
   "execution_count": null,
   "metadata": {},
   "outputs": [],
   "source": [
    "%matplotlib inline\n",
    "\n",
    "# Important: We are using PIL to read .png files later.\n",
    "# This was done on purpose to read indexed png files\n",
    "# in a special way -- only indexes and not map the indexes\n",
    "# to actual rgb values. This is specific to PASCAL VOC\n",
    "# dataset data. If you don't want thit type of behaviour\n",
    "# consider using skimage.io.imread()\n",
    "\n",
    "from PIL import Image\n",
    "import numpy as np\n",
    "import skimage.io as io\n",
    "import tensorflow as tf\n",
    "\n",
    "\n",
    "def _bytes_feature(value):\n",
    "    return tf.train.Feature(bytes_list=tf.train.BytesList(value=[value]))\n",
    "\n",
    "def _int64_feature(value):\n",
    "    return tf.train.Feature(int64_list=tf.train.Int64List(value=[value]))\n",
    "\n",
    "tfrecords_filename = 'pascal_voc_segmentation.tfrecords'\n",
    "\n",
    "writer = tf.python_io.TFRecordWriter(tfrecords_filename)\n",
    "\n",
    "# Let's collect the real images to later on compare\n",
    "# to the reconstructed ones\n",
    "original_images = []\n",
    "filename_pairs=zip(img_list,label_list)\n",
    "i=0\n",
    "for img_path, annotation_path in filename_pairs:\n",
    "    i=i+1\n",
    "    if not i % 100:\n",
    "        print('Train data: {}/{}'.format(i, len(img_list)))\n",
    "        sys.stdout.flush()\n",
    "    \n",
    "    img = np.array(Image.open(img_path))\n",
    "    annotation = np.array(Image.open(annotation_path))\n",
    "    \n",
    "    # The reason to store image sizes was demonstrated\n",
    "    # in the previous example -- we have to know sizes\n",
    "    # of images to later read raw serialized string,\n",
    "    # convert to 1d array and convert to respective\n",
    "    # shape that image used to have.\n",
    "    height = img.shape[0]\n",
    "    width = img.shape[1]\n",
    "    \n",
    "    # Put in the original images into array\n",
    "    # Just for future check for correctness\n",
    "    #original_images.append((img, annotation))\n",
    "    \n",
    "    img_raw = img.tostring()\n",
    "    annotation_raw = annotation.tostring()\n",
    "    \n",
    "    example = tf.train.Example(features=tf.train.Features(feature={\n",
    "        'height': _int64_feature(height),\n",
    "        'width': _int64_feature(width),\n",
    "        'image_raw': _bytes_feature(img_raw),\n",
    "        'mask_raw': _bytes_feature(annotation_raw)}))\n",
    "    \n",
    "    writer.write(example.SerializeToString())\n",
    "\n",
    "writer.close()"
   ]
  },
  {
   "cell_type": "code",
   "execution_count": null,
   "metadata": {},
   "outputs": [],
   "source": [
    "\n",
    "reconstructed_images = []\n",
    "\n",
    "record_iterator = tf.python_io.tf_record_iterator(path=tfrecords_filename)\n",
    "for string_record in record_iterator:\n",
    "    example = tf.train.Example()\n",
    "    example.ParseFromString(string_record)\n",
    "    \n",
    "    height = int(example.features.feature['height']\n",
    "                                 .int64_list\n",
    "                                 .value[0])\n",
    "    \n",
    "    width = int(example.features.feature['width']\n",
    "                                .int64_list\n",
    "                                .value[0])\n",
    "    \n",
    "    img_string = (example.features.feature['image_raw']\n",
    "                                  .bytes_list\n",
    "                                  .value[0])\n",
    "    \n",
    "    annotation_string = (example.features.feature['mask_raw']\n",
    "                                .bytes_list\n",
    "                                .value[0])\n",
    "    \n",
    "    img_1d = np.fromstring(img_string, dtype=np.uint8)\n",
    "    reconstructed_img = img_1d.reshape((height, width, -1))\n",
    "    \n",
    "    annotation_1d = np.fromstring(annotation_string, dtype=np.uint8)\n",
    "    # Annotations don't have depth (3rd dimension)\n",
    "    reconstructed_annotation = annotation_1d.reshape((height, width))\n",
    "    \n",
    "    reconstructed_images.append((reconstructed_img, reconstructed_annotation))"
   ]
  },
  {
   "cell_type": "code",
   "execution_count": null,
   "metadata": {},
   "outputs": [],
   "source": []
  },
  {
   "cell_type": "code",
   "execution_count": null,
   "metadata": {
    "scrolled": true
   },
   "outputs": [],
   "source": [
    "%matplotlib inline\n",
    "\n",
    "import tensorflow as tf\n",
    "import skimage.io as io\n",
    "\n",
    "IMAGE_HEIGHT = 384\n",
    "IMAGE_WIDTH = 384\n",
    "\n",
    "tfrecords_filename = 'pascal_voc_segmentation.tfrecords'\n",
    "\n",
    "def read_and_decode(filename_queue):\n",
    "    \n",
    "    reader = tf.TFRecordReader()\n",
    "\n",
    "    _, serialized_example = reader.read(filename_queue)\n",
    "\n",
    "    features = tf.parse_single_example(\n",
    "      serialized_example,\n",
    "      # Defaults are not specified since both keys are required.\n",
    "      features={\n",
    "        'height': tf.FixedLenFeature([], tf.int64),\n",
    "        'width': tf.FixedLenFeature([], tf.int64),\n",
    "        'image_raw': tf.FixedLenFeature([], tf.string),\n",
    "        'mask_raw': tf.FixedLenFeature([], tf.string)\n",
    "        })\n",
    "\n",
    "    # Convert from a scalar string tensor (whose single string has\n",
    "    # length mnist.IMAGE_PIXELS) to a uint8 tensor with shape\n",
    "    # [mnist.IMAGE_PIXELS].\n",
    "    image = tf.decode_raw(features['image_raw'], tf.uint8)\n",
    "    annotation = tf.decode_raw(features['mask_raw'], tf.uint8)\n",
    "    \n",
    "    height = tf.cast(features['height'], tf.int32)\n",
    "    width = tf.cast(features['width'], tf.int32)\n",
    "    \n",
    "    image_shape = tf.stack([height, width, 3])\n",
    "    annotation_shape = tf.stack([height, width, 1])\n",
    "    \n",
    "    image = tf.reshape(image, image_shape)\n",
    "    annotation = tf.reshape(annotation, annotation_shape)\n",
    "    \n",
    "    image_size_const = tf.constant((IMAGE_HEIGHT, IMAGE_WIDTH, 3), dtype=tf.int32)\n",
    "    annotation_size_const = tf.constant((IMAGE_HEIGHT, IMAGE_WIDTH, 1), dtype=tf.int32)\n",
    "    \n",
    "    # Random transformations can be put here: right before you crop images\n",
    "    # to predefined size. To get more information look at the stackoverflow\n",
    "    # question linked above.\n",
    "    \n",
    "    resized_image = tf.image.resize_image_with_crop_or_pad(image=image,\n",
    "                                           target_height=IMAGE_HEIGHT,\n",
    "                                           target_width=IMAGE_WIDTH)\n",
    "    \n",
    "    resized_annotation = tf.image.resize_image_with_crop_or_pad(image=annotation,\n",
    "                                           target_height=IMAGE_HEIGHT,\n",
    "                                           target_width=IMAGE_WIDTH)\n",
    "    \n",
    "    \n",
    "    images, annotations = tf.train.shuffle_batch( [resized_image, resized_annotation],\n",
    "                                                 batch_size=2,\n",
    "                                                 capacity=30,\n",
    "                                                 num_threads=2,\n",
    "                                                 min_after_dequeue=10)\n",
    "    \n",
    "    return images, annotations"
   ]
  },
  {
   "cell_type": "code",
   "execution_count": null,
   "metadata": {},
   "outputs": [],
   "source": [
    "filename_queue = tf.train.string_input_producer(\n",
    "    [tfrecords_filename], num_epochs=10)\n",
    "\n",
    "# Even when reading in multiple threads, share the filename\n",
    "# queue.\n",
    "image, annotation = read_and_decode(filename_queue)\n",
    "\n",
    "# The op for initializing the variables.\n",
    "init_op = tf.group(tf.global_variables_initializer(),\n",
    "                   tf.local_variables_initializer())\n",
    "\n",
    "with tf.Session()  as sess:\n",
    "    \n",
    "    sess.run(init_op)\n",
    "    \n",
    "    coord = tf.train.Coordinator()\n",
    "    threads = tf.train.start_queue_runners(coord=coord)\n",
    "    \n",
    "    # Let's read off 3 batches just for example\n",
    "    for i in range(3):\n",
    "    \n",
    "        img, anno = sess.run([image, annotation])\n",
    "        print(img[0, :, :, :].shape)\n",
    "        \n",
    "        print('current batch')\n",
    "        \n",
    "        # We selected the batch size of two\n",
    "        # So we should get two image pairs in each batch\n",
    "        # Let's make sure it is random\n",
    "\n",
    "        io.imshow(img[0, :, :, :])\n",
    "        io.show()\n",
    "\n",
    "        io.imshow(anno[0, :, :, 0])\n",
    "        io.show()\n",
    "        \n",
    "        io.imshow(img[1, :, :, :])\n",
    "        io.show()\n",
    "\n",
    "        io.imshow(anno[1, :, :, 0])\n",
    "        io.show()\n",
    "        \n",
    "    \n",
    "    coord.request_stop()\n",
    "    coord.join(threads)\n",
    "\n"
   ]
  },
  {
   "cell_type": "code",
   "execution_count": 4,
   "metadata": {},
   "outputs": [],
   "source": [
    "import numpy as np"
   ]
  },
  {
   "cell_type": "code",
   "execution_count": 12,
   "metadata": {},
   "outputs": [],
   "source": []
  },
  {
   "cell_type": "code",
   "execution_count": 13,
   "metadata": {},
   "outputs": [
    {
     "data": {
      "text/plain": [
       "(1000, 1000, 1)"
      ]
     },
     "execution_count": 13,
     "metadata": {},
     "output_type": "execute_result"
    }
   ],
   "source": [
    "a.shape"
   ]
  },
  {
   "cell_type": "code",
   "execution_count": 17,
   "metadata": {},
   "outputs": [
    {
     "ename": "SyntaxError",
     "evalue": "invalid syntax (<ipython-input-17-35b75711f00c>, line 1)",
     "output_type": "error",
     "traceback": [
      "\u001b[0;36m  File \u001b[0;32m\"<ipython-input-17-35b75711f00c>\"\u001b[0;36m, line \u001b[0;32m1\u001b[0m\n\u001b[0;31m    for i in a[][][:]:\u001b[0m\n\u001b[0m               ^\u001b[0m\n\u001b[0;31mSyntaxError\u001b[0m\u001b[0;31m:\u001b[0m invalid syntax\n"
     ]
    }
   ],
   "source": [
    "for i in a[][][:]:\n",
    "    print(i)\n",
    "    print('데헷')"
   ]
  },
  {
   "cell_type": "code",
   "execution_count": 28,
   "metadata": {},
   "outputs": [
    {
     "data": {
      "text/plain": [
       "array([[[1.],\n",
       "        [1.],\n",
       "        [1.]],\n",
       "\n",
       "       [[1.],\n",
       "        [1.],\n",
       "        [1.]],\n",
       "\n",
       "       [[1.],\n",
       "        [1.],\n",
       "        [1.]],\n",
       "\n",
       "       [[1.],\n",
       "        [1.],\n",
       "        [1.]]])"
      ]
     },
     "execution_count": 28,
     "metadata": {},
     "output_type": "execute_result"
    }
   ],
   "source": [
    "a"
   ]
  },
  {
   "cell_type": "code",
   "execution_count": 27,
   "metadata": {},
   "outputs": [],
   "source": [
    "import numpy as np"
   ]
  },
  {
   "cell_type": "code",
   "execution_count": 28,
   "metadata": {},
   "outputs": [],
   "source": [
    "a=np.ones((1000,1000,1))\n",
    "(h,w,_)=a.shape\n",
    "background_labels=[1,2,3,4]\n",
    "k=0\n",
    "for i in range(h):\n",
    "    for j in range(w):\n",
    "        k=k+1\n",
    "        a[i][j][0]=k"
   ]
  },
  {
   "cell_type": "code",
   "execution_count": 38,
   "metadata": {},
   "outputs": [],
   "source": [
    "for i in range(h):\n",
    "    for j in range(w):\n",
    "        for lbl in background_labels:\n",
    "            if a[i][j][0]==lbl:\n",
    "                b=0\n",
    "                break\n",
    "            b=1\n",
    "        a[i][j][0]=b\n",
    "       "
   ]
  },
  {
   "cell_type": "code",
   "execution_count": 54,
   "metadata": {},
   "outputs": [],
   "source": [
    "import numpy as np\n",
    "background_labels=[1,2,3,4]\n",
    "def compare(pix,background_lbls):\n",
    "    if pix in background_lbls: b=0\n",
    "    else: b=1\n",
    "    return b\n",
    "vfunc=np.vectorize(compare,excluded=['background_labels'])\n",
    "vfunc(pix=a,background_lbls=background_labels)"
   ]
  },
  {
   "cell_type": "code",
   "execution_count": 71,
   "metadata": {},
   "outputs": [
    {
     "ename": "TypeError",
     "evalue": "argument of type 'numpy.int64' is not iterable",
     "output_type": "error",
     "traceback": [
      "\u001b[0;31m---------------------------------------------------------------------------\u001b[0m",
      "\u001b[0;31mTypeError\u001b[0m                                 Traceback (most recent call last)",
      "\u001b[0;32m<ipython-input-71-d83c0071d0bc>\u001b[0m in \u001b[0;36m<module>\u001b[0;34m()\u001b[0m\n\u001b[1;32m      1\u001b[0m \u001b[0mvfunc\u001b[0m\u001b[0;34m=\u001b[0m\u001b[0mnp\u001b[0m\u001b[0;34m.\u001b[0m\u001b[0mvectorize\u001b[0m\u001b[0;34m(\u001b[0m\u001b[0mcompare\u001b[0m\u001b[0;34m,\u001b[0m\u001b[0mexcluded\u001b[0m\u001b[0;34m=\u001b[0m\u001b[0;34m[\u001b[0m\u001b[0;34m'background_labels'\u001b[0m\u001b[0;34m]\u001b[0m\u001b[0;34m)\u001b[0m\u001b[0;34m\u001b[0m\u001b[0m\n\u001b[0;32m----> 2\u001b[0;31m \u001b[0mvfunc\u001b[0m\u001b[0;34m(\u001b[0m\u001b[0mpix\u001b[0m\u001b[0;34m=\u001b[0m\u001b[0ma\u001b[0m\u001b[0;34m,\u001b[0m\u001b[0mbackground_lbls\u001b[0m\u001b[0;34m=\u001b[0m\u001b[0mbackground_labels\u001b[0m\u001b[0;34m)\u001b[0m\u001b[0;34m\u001b[0m\u001b[0m\n\u001b[0m",
      "\u001b[0;32m~/tensorflow1-1_pyth3/lib/python3.5/site-packages/numpy/lib/function_base.py\u001b[0m in \u001b[0;36m__call__\u001b[0;34m(self, *args, **kwargs)\u001b[0m\n\u001b[1;32m   2753\u001b[0m             \u001b[0mvargs\u001b[0m\u001b[0;34m.\u001b[0m\u001b[0mextend\u001b[0m\u001b[0;34m(\u001b[0m\u001b[0;34m[\u001b[0m\u001b[0mkwargs\u001b[0m\u001b[0;34m[\u001b[0m\u001b[0m_n\u001b[0m\u001b[0;34m]\u001b[0m \u001b[0;32mfor\u001b[0m \u001b[0m_n\u001b[0m \u001b[0;32min\u001b[0m \u001b[0mnames\u001b[0m\u001b[0;34m]\u001b[0m\u001b[0;34m)\u001b[0m\u001b[0;34m\u001b[0m\u001b[0m\n\u001b[1;32m   2754\u001b[0m \u001b[0;34m\u001b[0m\u001b[0m\n\u001b[0;32m-> 2755\u001b[0;31m         \u001b[0;32mreturn\u001b[0m \u001b[0mself\u001b[0m\u001b[0;34m.\u001b[0m\u001b[0m_vectorize_call\u001b[0m\u001b[0;34m(\u001b[0m\u001b[0mfunc\u001b[0m\u001b[0;34m=\u001b[0m\u001b[0mfunc\u001b[0m\u001b[0;34m,\u001b[0m \u001b[0margs\u001b[0m\u001b[0;34m=\u001b[0m\u001b[0mvargs\u001b[0m\u001b[0;34m)\u001b[0m\u001b[0;34m\u001b[0m\u001b[0m\n\u001b[0m\u001b[1;32m   2756\u001b[0m \u001b[0;34m\u001b[0m\u001b[0m\n\u001b[1;32m   2757\u001b[0m     \u001b[0;32mdef\u001b[0m \u001b[0m_get_ufunc_and_otypes\u001b[0m\u001b[0;34m(\u001b[0m\u001b[0mself\u001b[0m\u001b[0;34m,\u001b[0m \u001b[0mfunc\u001b[0m\u001b[0;34m,\u001b[0m \u001b[0margs\u001b[0m\u001b[0;34m)\u001b[0m\u001b[0;34m:\u001b[0m\u001b[0;34m\u001b[0m\u001b[0m\n",
      "\u001b[0;32m~/tensorflow1-1_pyth3/lib/python3.5/site-packages/numpy/lib/function_base.py\u001b[0m in \u001b[0;36m_vectorize_call\u001b[0;34m(self, func, args)\u001b[0m\n\u001b[1;32m   2823\u001b[0m             \u001b[0mres\u001b[0m \u001b[0;34m=\u001b[0m \u001b[0mfunc\u001b[0m\u001b[0;34m(\u001b[0m\u001b[0;34m)\u001b[0m\u001b[0;34m\u001b[0m\u001b[0m\n\u001b[1;32m   2824\u001b[0m         \u001b[0;32melse\u001b[0m\u001b[0;34m:\u001b[0m\u001b[0;34m\u001b[0m\u001b[0m\n\u001b[0;32m-> 2825\u001b[0;31m             \u001b[0mufunc\u001b[0m\u001b[0;34m,\u001b[0m \u001b[0motypes\u001b[0m \u001b[0;34m=\u001b[0m \u001b[0mself\u001b[0m\u001b[0;34m.\u001b[0m\u001b[0m_get_ufunc_and_otypes\u001b[0m\u001b[0;34m(\u001b[0m\u001b[0mfunc\u001b[0m\u001b[0;34m=\u001b[0m\u001b[0mfunc\u001b[0m\u001b[0;34m,\u001b[0m \u001b[0margs\u001b[0m\u001b[0;34m=\u001b[0m\u001b[0margs\u001b[0m\u001b[0;34m)\u001b[0m\u001b[0;34m\u001b[0m\u001b[0m\n\u001b[0m\u001b[1;32m   2826\u001b[0m \u001b[0;34m\u001b[0m\u001b[0m\n\u001b[1;32m   2827\u001b[0m             \u001b[0;31m# Convert args to object arrays first\u001b[0m\u001b[0;34m\u001b[0m\u001b[0;34m\u001b[0m\u001b[0m\n",
      "\u001b[0;32m~/tensorflow1-1_pyth3/lib/python3.5/site-packages/numpy/lib/function_base.py\u001b[0m in \u001b[0;36m_get_ufunc_and_otypes\u001b[0;34m(self, func, args)\u001b[0m\n\u001b[1;32m   2783\u001b[0m \u001b[0;34m\u001b[0m\u001b[0m\n\u001b[1;32m   2784\u001b[0m             \u001b[0minputs\u001b[0m \u001b[0;34m=\u001b[0m \u001b[0;34m[\u001b[0m\u001b[0marg\u001b[0m\u001b[0;34m.\u001b[0m\u001b[0mflat\u001b[0m\u001b[0;34m[\u001b[0m\u001b[0;36m0\u001b[0m\u001b[0;34m]\u001b[0m \u001b[0;32mfor\u001b[0m \u001b[0marg\u001b[0m \u001b[0;32min\u001b[0m \u001b[0margs\u001b[0m\u001b[0;34m]\u001b[0m\u001b[0;34m\u001b[0m\u001b[0m\n\u001b[0;32m-> 2785\u001b[0;31m             \u001b[0moutputs\u001b[0m \u001b[0;34m=\u001b[0m \u001b[0mfunc\u001b[0m\u001b[0;34m(\u001b[0m\u001b[0;34m*\u001b[0m\u001b[0minputs\u001b[0m\u001b[0;34m)\u001b[0m\u001b[0;34m\u001b[0m\u001b[0m\n\u001b[0m\u001b[1;32m   2786\u001b[0m \u001b[0;34m\u001b[0m\u001b[0m\n\u001b[1;32m   2787\u001b[0m             \u001b[0;31m# Performance note: profiling indicates that -- for simple\u001b[0m\u001b[0;34m\u001b[0m\u001b[0;34m\u001b[0m\u001b[0m\n",
      "\u001b[0;32m~/tensorflow1-1_pyth3/lib/python3.5/site-packages/numpy/lib/function_base.py\u001b[0m in \u001b[0;36mfunc\u001b[0;34m(*vargs)\u001b[0m\n\u001b[1;32m   2748\u001b[0m                     \u001b[0mthe_args\u001b[0m\u001b[0;34m[\u001b[0m\u001b[0m_i\u001b[0m\u001b[0;34m]\u001b[0m \u001b[0;34m=\u001b[0m \u001b[0mvargs\u001b[0m\u001b[0;34m[\u001b[0m\u001b[0m_n\u001b[0m\u001b[0;34m]\u001b[0m\u001b[0;34m\u001b[0m\u001b[0m\n\u001b[1;32m   2749\u001b[0m                 \u001b[0mkwargs\u001b[0m\u001b[0;34m.\u001b[0m\u001b[0mupdate\u001b[0m\u001b[0;34m(\u001b[0m\u001b[0mzip\u001b[0m\u001b[0;34m(\u001b[0m\u001b[0mnames\u001b[0m\u001b[0;34m,\u001b[0m \u001b[0mvargs\u001b[0m\u001b[0;34m[\u001b[0m\u001b[0mlen\u001b[0m\u001b[0;34m(\u001b[0m\u001b[0minds\u001b[0m\u001b[0;34m)\u001b[0m\u001b[0;34m:\u001b[0m\u001b[0;34m]\u001b[0m\u001b[0;34m)\u001b[0m\u001b[0;34m)\u001b[0m\u001b[0;34m\u001b[0m\u001b[0m\n\u001b[0;32m-> 2750\u001b[0;31m                 \u001b[0;32mreturn\u001b[0m \u001b[0mself\u001b[0m\u001b[0;34m.\u001b[0m\u001b[0mpyfunc\u001b[0m\u001b[0;34m(\u001b[0m\u001b[0;34m*\u001b[0m\u001b[0mthe_args\u001b[0m\u001b[0;34m,\u001b[0m \u001b[0;34m**\u001b[0m\u001b[0mkwargs\u001b[0m\u001b[0;34m)\u001b[0m\u001b[0;34m\u001b[0m\u001b[0m\n\u001b[0m\u001b[1;32m   2751\u001b[0m \u001b[0;34m\u001b[0m\u001b[0m\n\u001b[1;32m   2752\u001b[0m             \u001b[0mvargs\u001b[0m \u001b[0;34m=\u001b[0m \u001b[0;34m[\u001b[0m\u001b[0margs\u001b[0m\u001b[0;34m[\u001b[0m\u001b[0m_i\u001b[0m\u001b[0;34m]\u001b[0m \u001b[0;32mfor\u001b[0m \u001b[0m_i\u001b[0m \u001b[0;32min\u001b[0m \u001b[0minds\u001b[0m\u001b[0;34m]\u001b[0m\u001b[0;34m\u001b[0m\u001b[0m\n",
      "\u001b[0;32m<ipython-input-54-927f3e52fd24>\u001b[0m in \u001b[0;36mcompare\u001b[0;34m(pix, background_lbls)\u001b[0m\n\u001b[1;32m      2\u001b[0m \u001b[0mbackground_labels\u001b[0m\u001b[0;34m=\u001b[0m\u001b[0;34m[\u001b[0m\u001b[0;36m1\u001b[0m\u001b[0;34m,\u001b[0m\u001b[0;36m2\u001b[0m\u001b[0;34m,\u001b[0m\u001b[0;36m3\u001b[0m\u001b[0;34m,\u001b[0m\u001b[0;36m4\u001b[0m\u001b[0;34m]\u001b[0m\u001b[0;34m\u001b[0m\u001b[0m\n\u001b[1;32m      3\u001b[0m \u001b[0;32mdef\u001b[0m \u001b[0mcompare\u001b[0m\u001b[0;34m(\u001b[0m\u001b[0mpix\u001b[0m\u001b[0;34m,\u001b[0m\u001b[0mbackground_lbls\u001b[0m\u001b[0;34m)\u001b[0m\u001b[0;34m:\u001b[0m\u001b[0;34m\u001b[0m\u001b[0m\n\u001b[0;32m----> 4\u001b[0;31m     \u001b[0;32mif\u001b[0m \u001b[0mpix\u001b[0m \u001b[0;32min\u001b[0m \u001b[0mbackground_lbls\u001b[0m\u001b[0;34m:\u001b[0m \u001b[0mb\u001b[0m\u001b[0;34m=\u001b[0m\u001b[0;36m0\u001b[0m\u001b[0;34m\u001b[0m\u001b[0m\n\u001b[0m\u001b[1;32m      5\u001b[0m     \u001b[0;32melse\u001b[0m\u001b[0;34m:\u001b[0m \u001b[0mb\u001b[0m\u001b[0;34m=\u001b[0m\u001b[0;36m1\u001b[0m\u001b[0;34m\u001b[0m\u001b[0m\n\u001b[1;32m      6\u001b[0m     \u001b[0;32mreturn\u001b[0m \u001b[0mb\u001b[0m\u001b[0;34m\u001b[0m\u001b[0m\n",
      "\u001b[0;31mTypeError\u001b[0m: argument of type 'numpy.int64' is not iterable"
     ]
    }
   ],
   "source": [
    "vfunc=np.vectorize(compare,excluded=['background_labels'])\n",
    "vfunc(pix=a,background_lbls=background_labels)"
   ]
  },
  {
   "cell_type": "code",
   "execution_count": 63,
   "metadata": {},
   "outputs": [],
   "source": [
    "def myfunc(a, b):\n",
    "#\"Return a-b if a>b, otherwise return a+b\"\n",
    "    if a > b:\n",
    "        return a - b\n",
    "    else:\n",
    "        return a + b"
   ]
  },
  {
   "cell_type": "code",
   "execution_count": 70,
   "metadata": {},
   "outputs": [
    {
     "data": {
      "text/plain": [
       "array([2, 1, 2, 3])"
      ]
     },
     "execution_count": 70,
     "metadata": {},
     "output_type": "execute_result"
    }
   ],
   "source": [
    "Vfunc=np.vectorize(myfunc)\n",
    "Vfunc([1,2,3,4],[1])"
   ]
  },
  {
   "cell_type": "code",
   "execution_count": 73,
   "metadata": {},
   "outputs": [
    {
     "data": {
      "text/plain": [
       "array([3, 6])"
      ]
     },
     "execution_count": 73,
     "metadata": {},
     "output_type": "execute_result"
    }
   ],
   "source": [
    "def mypolyval(p,x):\n",
    "    _p=list(p)\n",
    "    res=_p.pop(0)\n",
    "    while _p:\n",
    "        res=res*x+_p.pop(0)\n",
    "    return res\n",
    "vpolyval=np.vectorize(mypolyval,excluded=['p'])\n",
    "vpolyval(p=[1,2,3],x=[0,1])"
   ]
  },
  {
   "cell_type": "code",
   "execution_count": 34,
   "metadata": {},
   "outputs": [],
   "source": [
    "a=[11,2,3,1,321,312]"
   ]
  },
  {
   "cell_type": "code",
   "execution_count": 38,
   "metadata": {},
   "outputs": [
    {
     "data": {
      "text/plain": [
       "list"
      ]
     },
     "execution_count": 38,
     "metadata": {},
     "output_type": "execute_result"
    }
   ],
   "source": [
    "type(a."
   ]
  },
  {
   "cell_type": "code",
   "execution_count": 80,
   "metadata": {},
   "outputs": [
    {
     "data": {
      "text/plain": [
       "3"
      ]
     },
     "execution_count": 80,
     "metadata": {},
     "output_type": "execute_result"
    }
   ],
   "source": [
    "c=[1,2,3]\n",
    "_c=list(c)\n",
    "x=0\n",
    "res=_c.pop(0)\n",
    "while _c:\n",
    "    res=res*x+_c.pop(0)\n",
    "res"
   ]
  },
  {
   "cell_type": "code",
   "execution_count": null,
   "metadata": {},
   "outputs": [],
   "source": []
  },
  {
   "cell_type": "code",
   "execution_count": 120,
   "metadata": {},
   "outputs": [],
   "source": [
    "class label_processing():\n",
    "    def __init__(self,pix,backbr_labels):\n",
    "        self.backgr_labels=backbr_labels\n",
    "        self.pix=pix\n",
    "    \n",
    "    def compare_label(self):\n",
    "        def compare(pix):\n",
    "            if pix in self.backgr_labels: tmp=0\n",
    "            else: tmp=1\n",
    "            return tmp\n",
    "        vfunc=np.vectorize(compare)\n",
    "        \n",
    "        return vfunc(self.pix)"
   ]
  },
  {
   "cell_type": "code",
   "execution_count": 121,
   "metadata": {},
   "outputs": [],
   "source": [
    "c=label_processing(a,background_labels)"
   ]
  },
  {
   "cell_type": "code",
   "execution_count": 122,
   "metadata": {},
   "outputs": [
    {
     "name": "stdout",
     "output_type": "stream",
     "text": [
      "<__main__.label_processing object at 0x7f7c5be5a198>\n"
     ]
    },
    {
     "ename": "TypeError",
     "evalue": "compare() missing 1 required positional argument: 'background_lbls'",
     "output_type": "error",
     "traceback": [
      "\u001b[0;31m---------------------------------------------------------------------------\u001b[0m",
      "\u001b[0;31mTypeError\u001b[0m                                 Traceback (most recent call last)",
      "\u001b[0;32m<ipython-input-122-263232c59da7>\u001b[0m in \u001b[0;36m<module>\u001b[0;34m()\u001b[0m\n\u001b[0;32m----> 1\u001b[0;31m \u001b[0mc\u001b[0m\u001b[0;34m.\u001b[0m\u001b[0mcompare_label\u001b[0m\u001b[0;34m(\u001b[0m\u001b[0;34m)\u001b[0m\u001b[0;34m\u001b[0m\u001b[0m\n\u001b[0m",
      "\u001b[0;32m<ipython-input-120-ff95fba3bdaa>\u001b[0m in \u001b[0;36mcompare_label\u001b[0;34m(self)\u001b[0m\n\u001b[1;32m     12\u001b[0m             \u001b[0;32mreturn\u001b[0m \u001b[0mtmp\u001b[0m\u001b[0;34m\u001b[0m\u001b[0m\n\u001b[1;32m     13\u001b[0m \u001b[0;34m\u001b[0m\u001b[0m\n\u001b[0;32m---> 14\u001b[0;31m         \u001b[0;32mreturn\u001b[0m \u001b[0mvfunc\u001b[0m\u001b[0;34m(\u001b[0m\u001b[0mself\u001b[0m\u001b[0;34m.\u001b[0m\u001b[0mpix\u001b[0m\u001b[0;34m)\u001b[0m\u001b[0;34m\u001b[0m\u001b[0m\n\u001b[0m",
      "\u001b[0;32m~/tensorflow1-1_pyth3/lib/python3.5/site-packages/numpy/lib/function_base.py\u001b[0m in \u001b[0;36m__call__\u001b[0;34m(self, *args, **kwargs)\u001b[0m\n\u001b[1;32m   2753\u001b[0m             \u001b[0mvargs\u001b[0m\u001b[0;34m.\u001b[0m\u001b[0mextend\u001b[0m\u001b[0;34m(\u001b[0m\u001b[0;34m[\u001b[0m\u001b[0mkwargs\u001b[0m\u001b[0;34m[\u001b[0m\u001b[0m_n\u001b[0m\u001b[0;34m]\u001b[0m \u001b[0;32mfor\u001b[0m \u001b[0m_n\u001b[0m \u001b[0;32min\u001b[0m \u001b[0mnames\u001b[0m\u001b[0;34m]\u001b[0m\u001b[0;34m)\u001b[0m\u001b[0;34m\u001b[0m\u001b[0m\n\u001b[1;32m   2754\u001b[0m \u001b[0;34m\u001b[0m\u001b[0m\n\u001b[0;32m-> 2755\u001b[0;31m         \u001b[0;32mreturn\u001b[0m \u001b[0mself\u001b[0m\u001b[0;34m.\u001b[0m\u001b[0m_vectorize_call\u001b[0m\u001b[0;34m(\u001b[0m\u001b[0mfunc\u001b[0m\u001b[0;34m=\u001b[0m\u001b[0mfunc\u001b[0m\u001b[0;34m,\u001b[0m \u001b[0margs\u001b[0m\u001b[0;34m=\u001b[0m\u001b[0mvargs\u001b[0m\u001b[0;34m)\u001b[0m\u001b[0;34m\u001b[0m\u001b[0m\n\u001b[0m\u001b[1;32m   2756\u001b[0m \u001b[0;34m\u001b[0m\u001b[0m\n\u001b[1;32m   2757\u001b[0m     \u001b[0;32mdef\u001b[0m \u001b[0m_get_ufunc_and_otypes\u001b[0m\u001b[0;34m(\u001b[0m\u001b[0mself\u001b[0m\u001b[0;34m,\u001b[0m \u001b[0mfunc\u001b[0m\u001b[0;34m,\u001b[0m \u001b[0margs\u001b[0m\u001b[0;34m)\u001b[0m\u001b[0;34m:\u001b[0m\u001b[0;34m\u001b[0m\u001b[0m\n",
      "\u001b[0;32m~/tensorflow1-1_pyth3/lib/python3.5/site-packages/numpy/lib/function_base.py\u001b[0m in \u001b[0;36m_vectorize_call\u001b[0;34m(self, func, args)\u001b[0m\n\u001b[1;32m   2823\u001b[0m             \u001b[0mres\u001b[0m \u001b[0;34m=\u001b[0m \u001b[0mfunc\u001b[0m\u001b[0;34m(\u001b[0m\u001b[0;34m)\u001b[0m\u001b[0;34m\u001b[0m\u001b[0m\n\u001b[1;32m   2824\u001b[0m         \u001b[0;32melse\u001b[0m\u001b[0;34m:\u001b[0m\u001b[0;34m\u001b[0m\u001b[0m\n\u001b[0;32m-> 2825\u001b[0;31m             \u001b[0mufunc\u001b[0m\u001b[0;34m,\u001b[0m \u001b[0motypes\u001b[0m \u001b[0;34m=\u001b[0m \u001b[0mself\u001b[0m\u001b[0;34m.\u001b[0m\u001b[0m_get_ufunc_and_otypes\u001b[0m\u001b[0;34m(\u001b[0m\u001b[0mfunc\u001b[0m\u001b[0;34m=\u001b[0m\u001b[0mfunc\u001b[0m\u001b[0;34m,\u001b[0m \u001b[0margs\u001b[0m\u001b[0;34m=\u001b[0m\u001b[0margs\u001b[0m\u001b[0;34m)\u001b[0m\u001b[0;34m\u001b[0m\u001b[0m\n\u001b[0m\u001b[1;32m   2826\u001b[0m \u001b[0;34m\u001b[0m\u001b[0m\n\u001b[1;32m   2827\u001b[0m             \u001b[0;31m# Convert args to object arrays first\u001b[0m\u001b[0;34m\u001b[0m\u001b[0;34m\u001b[0m\u001b[0m\n",
      "\u001b[0;32m~/tensorflow1-1_pyth3/lib/python3.5/site-packages/numpy/lib/function_base.py\u001b[0m in \u001b[0;36m_get_ufunc_and_otypes\u001b[0;34m(self, func, args)\u001b[0m\n\u001b[1;32m   2783\u001b[0m \u001b[0;34m\u001b[0m\u001b[0m\n\u001b[1;32m   2784\u001b[0m             \u001b[0minputs\u001b[0m \u001b[0;34m=\u001b[0m \u001b[0;34m[\u001b[0m\u001b[0marg\u001b[0m\u001b[0;34m.\u001b[0m\u001b[0mflat\u001b[0m\u001b[0;34m[\u001b[0m\u001b[0;36m0\u001b[0m\u001b[0;34m]\u001b[0m \u001b[0;32mfor\u001b[0m \u001b[0marg\u001b[0m \u001b[0;32min\u001b[0m \u001b[0margs\u001b[0m\u001b[0;34m]\u001b[0m\u001b[0;34m\u001b[0m\u001b[0m\n\u001b[0;32m-> 2785\u001b[0;31m             \u001b[0moutputs\u001b[0m \u001b[0;34m=\u001b[0m \u001b[0mfunc\u001b[0m\u001b[0;34m(\u001b[0m\u001b[0;34m*\u001b[0m\u001b[0minputs\u001b[0m\u001b[0;34m)\u001b[0m\u001b[0;34m\u001b[0m\u001b[0m\n\u001b[0m\u001b[1;32m   2786\u001b[0m \u001b[0;34m\u001b[0m\u001b[0m\n\u001b[1;32m   2787\u001b[0m             \u001b[0;31m# Performance note: profiling indicates that -- for simple\u001b[0m\u001b[0;34m\u001b[0m\u001b[0;34m\u001b[0m\u001b[0m\n",
      "\u001b[0;32m~/tensorflow1-1_pyth3/lib/python3.5/site-packages/numpy/lib/function_base.py\u001b[0m in \u001b[0;36mfunc\u001b[0;34m(*vargs)\u001b[0m\n\u001b[1;32m   2748\u001b[0m                     \u001b[0mthe_args\u001b[0m\u001b[0;34m[\u001b[0m\u001b[0m_i\u001b[0m\u001b[0;34m]\u001b[0m \u001b[0;34m=\u001b[0m \u001b[0mvargs\u001b[0m\u001b[0;34m[\u001b[0m\u001b[0m_n\u001b[0m\u001b[0;34m]\u001b[0m\u001b[0;34m\u001b[0m\u001b[0m\n\u001b[1;32m   2749\u001b[0m                 \u001b[0mkwargs\u001b[0m\u001b[0;34m.\u001b[0m\u001b[0mupdate\u001b[0m\u001b[0;34m(\u001b[0m\u001b[0mzip\u001b[0m\u001b[0;34m(\u001b[0m\u001b[0mnames\u001b[0m\u001b[0;34m,\u001b[0m \u001b[0mvargs\u001b[0m\u001b[0;34m[\u001b[0m\u001b[0mlen\u001b[0m\u001b[0;34m(\u001b[0m\u001b[0minds\u001b[0m\u001b[0;34m)\u001b[0m\u001b[0;34m:\u001b[0m\u001b[0;34m]\u001b[0m\u001b[0;34m)\u001b[0m\u001b[0;34m)\u001b[0m\u001b[0;34m\u001b[0m\u001b[0m\n\u001b[0;32m-> 2750\u001b[0;31m                 \u001b[0;32mreturn\u001b[0m \u001b[0mself\u001b[0m\u001b[0;34m.\u001b[0m\u001b[0mpyfunc\u001b[0m\u001b[0;34m(\u001b[0m\u001b[0;34m*\u001b[0m\u001b[0mthe_args\u001b[0m\u001b[0;34m,\u001b[0m \u001b[0;34m**\u001b[0m\u001b[0mkwargs\u001b[0m\u001b[0;34m)\u001b[0m\u001b[0;34m\u001b[0m\u001b[0m\n\u001b[0m\u001b[1;32m   2751\u001b[0m \u001b[0;34m\u001b[0m\u001b[0m\n\u001b[1;32m   2752\u001b[0m             \u001b[0mvargs\u001b[0m \u001b[0;34m=\u001b[0m \u001b[0;34m[\u001b[0m\u001b[0margs\u001b[0m\u001b[0;34m[\u001b[0m\u001b[0m_i\u001b[0m\u001b[0;34m]\u001b[0m \u001b[0;32mfor\u001b[0m \u001b[0m_i\u001b[0m \u001b[0;32min\u001b[0m \u001b[0minds\u001b[0m\u001b[0;34m]\u001b[0m\u001b[0;34m\u001b[0m\u001b[0m\n",
      "\u001b[0;31mTypeError\u001b[0m: compare() missing 1 required positional argument: 'background_lbls'"
     ]
    }
   ],
   "source": [
    "c.compare_label()"
   ]
  },
  {
   "cell_type": "code",
   "execution_count": 113,
   "metadata": {},
   "outputs": [
    {
     "data": {
      "text/plain": [
       "array([[[1.],\n",
       "        [1.],\n",
       "        [1.],\n",
       "        ...,\n",
       "        [0.],\n",
       "        [0.],\n",
       "        [0.]],\n",
       "\n",
       "       [[0.],\n",
       "        [0.],\n",
       "        [0.],\n",
       "        ...,\n",
       "        [0.],\n",
       "        [0.],\n",
       "        [0.]],\n",
       "\n",
       "       [[0.],\n",
       "        [0.],\n",
       "        [0.],\n",
       "        ...,\n",
       "        [0.],\n",
       "        [0.],\n",
       "        [0.]],\n",
       "\n",
       "       ...,\n",
       "\n",
       "       [[0.],\n",
       "        [0.],\n",
       "        [0.],\n",
       "        ...,\n",
       "        [0.],\n",
       "        [0.],\n",
       "        [0.]],\n",
       "\n",
       "       [[0.],\n",
       "        [0.],\n",
       "        [0.],\n",
       "        ...,\n",
       "        [0.],\n",
       "        [0.],\n",
       "        [0.]],\n",
       "\n",
       "       [[0.],\n",
       "        [0.],\n",
       "        [0.],\n",
       "        ...,\n",
       "        [0.],\n",
       "        [0.],\n",
       "        [0.]]])"
      ]
     },
     "execution_count": 113,
     "metadata": {},
     "output_type": "execute_result"
    }
   ],
   "source": [
    "a"
   ]
  },
  {
   "cell_type": "code",
   "execution_count": null,
   "metadata": {},
   "outputs": [],
   "source": []
  }
 ],
 "metadata": {
  "kernelspec": {
   "display_name": "tensorflow1-1_pyth3",
   "language": "python",
   "name": "tensorflow1-1_pyth3"
  },
  "language_info": {
   "codemirror_mode": {
    "name": "ipython",
    "version": 3
   },
   "file_extension": ".py",
   "mimetype": "text/x-python",
   "name": "python",
   "nbconvert_exporter": "python",
   "pygments_lexer": "ipython3",
   "version": "3.5.2"
  }
 },
 "nbformat": 4,
 "nbformat_minor": 2
}
