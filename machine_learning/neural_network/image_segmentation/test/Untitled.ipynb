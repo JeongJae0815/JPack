{
 "cells": [
  {
   "cell_type": "code",
   "execution_count": null,
   "metadata": {},
   "outputs": [],
   "source": [
    "#!/usr/bin/env python\n",
    "\n",
    "import os\n",
    "import scipy as scp\n",
    "import scipy.misc\n",
    "\n",
    "import numpy as np\n",
    "import logging\n",
    "import tensorflow as tf\n",
    "import sys\n",
    "\n",
    "import fcn8_vgg\n",
    "import utils\n",
    "\n",
    "logging.basicConfig(format='%(asctime)s %(levelname)s %(message)s',\n",
    "                    level=logging.INFO,\n",
    "                    stream=sys.stdout)\n",
    "\n",
    "from tensorflow.python.framework import ops\n",
    "\n",
    "img1 = scp.misc.imread(\"./test_data/tabby_cat.png\")\n",
    "\n",
    "with tf.Session() as sess:\n",
    "    images = tf.placeholder(\"float\")\n",
    "    feed_dict = {images: img1}\n",
    "    batch_images = tf.expand_dims(images, 0)\n",
    "\n",
    "    vgg_fcn = fcn8_vgg.FCN8VGG()\n",
    "    with tf.name_scope(\"content_vgg\"):\n",
    "        vgg_fcn.build(batch_images, debug=True)\n",
    "\n",
    "    print('Finished building Network.')\n",
    "\n",
    "    logging.warning(\"Score weights are initialized random.\")\n",
    "    logging.warning(\"Do not expect meaningful results.\")\n",
    "\n",
    "    logging.info(\"Start Initializing Variabels.\")\n",
    "\n",
    "    init = tf.global_variables_initializer()\n",
    "    sess.run(init)\n",
    "\n",
    "    print('Running the Network')\n",
    "    tensors = [vgg_fcn.pred, vgg_fcn.pred_up]\n",
    "    down, up = sess.run(tensors, feed_dict=feed_dict)\n",
    "\n",
    "    down_color = utils.color_image(down[0])\n",
    "    up_color = utils.color_image(up[0])\n",
    "\n",
    "    scp.misc.imsave('fcn8_downsampled.png', down_color)\n",
    "    scp.misc.imsave('fcn8_upsampled.png', up_color)\n"
   ]
  },
  {
   "cell_type": "code",
   "execution_count": null,
   "metadata": {},
   "outputs": [],
   "source": [
    "up_color"
   ]
  },
  {
   "cell_type": "code",
   "execution_count": null,
   "metadata": {},
   "outputs": [],
   "source": [
    "up"
   ]
  },
  {
   "cell_type": "code",
   "execution_count": null,
   "metadata": {},
   "outputs": [],
   "source": []
  }
 ],
 "metadata": {
  "kernelspec": {
   "display_name": "tensorflow1-1_pyth3",
   "language": "python",
   "name": "tensorflow1-1_pyth3"
  },
  "language_info": {
   "codemirror_mode": {
    "name": "ipython",
    "version": 3
   },
   "file_extension": ".py",
   "mimetype": "text/x-python",
   "name": "python",
   "nbconvert_exporter": "python",
   "pygments_lexer": "ipython3",
   "version": "3.5.2"
  }
 },
 "nbformat": 4,
 "nbformat_minor": 2
}
